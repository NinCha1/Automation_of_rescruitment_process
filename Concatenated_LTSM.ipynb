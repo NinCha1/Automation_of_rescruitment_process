{
  "nbformat": 4,
  "nbformat_minor": 0,
  "metadata": {
    "colab": {
      "provenance": [],
      "gpuType": "T4"
    },
    "kernelspec": {
      "name": "python3",
      "display_name": "Python 3"
    },
    "language_info": {
      "name": "python"
    },
    "accelerator": "GPU"
  },
  "cells": [
    {
      "cell_type": "code",
      "source": [
        "import tensorflow as tf\n",
        "from tensorflow.keras.layers import Input, Embedding, Bidirectional, LSTM, Dense\n",
        "from tensorflow.keras import Model\n",
        "import numpy as np\n",
        "import pandas as pd\n",
        "import re\n",
        "import nltk\n",
        "from nltk.corpus import stopwords\n",
        "nltk.download('stopwords')\n",
        "from sklearn.model_selection import train_test_split\n",
        "from sklearn.metrics import f1_score, accuracy_score, precision_score, recall_score\n",
        "from imblearn.over_sampling import SMOTE\n",
        "from sklearn.utils import class_weight"
      ],
      "metadata": {
        "colab": {
          "base_uri": "https://localhost:8080/"
        },
        "id": "PqPNCf-KTst3",
        "outputId": "9055a0bd-f9b3-4519-8a2f-b47a3080077b"
      },
      "execution_count": null,
      "outputs": [
        {
          "output_type": "stream",
          "name": "stderr",
          "text": [
            "[nltk_data] Downloading package stopwords to /root/nltk_data...\n",
            "[nltk_data]   Unzipping corpora/stopwords.zip.\n"
          ]
        }
      ]
    },
    {
      "cell_type": "code",
      "source": [
        "gpus = tf.config.list_physical_devices('GPU')\n",
        "if gpus:\n",
        "  # Restrict TensorFlow to only use the first GPU\n",
        "  try:\n",
        "    tf.config.set_visible_devices(gpus[0], 'GPU')\n",
        "    logical_gpus = tf.config.list_logical_devices('GPU')\n",
        "    print(len(gpus), \"Physical GPUs,\", len(logical_gpus), \"Logical GPU\")\n",
        "  except RuntimeError as e:\n",
        "    # Visible devices must be set before GPUs have been initialized\n",
        "    print(e)"
      ],
      "metadata": {
        "id": "y_ogxdE5O8zd",
        "colab": {
          "base_uri": "https://localhost:8080/"
        },
        "outputId": "5e841bdd-1b4c-4126-ecc0-95b9dfc30c23"
      },
      "execution_count": null,
      "outputs": [
        {
          "output_type": "stream",
          "name": "stdout",
          "text": [
            "1 Physical GPUs, 1 Logical GPU\n"
          ]
        }
      ]
    },
    {
      "cell_type": "code",
      "source": [
        "tf.device('/device:GPU:2')"
      ],
      "metadata": {
        "colab": {
          "base_uri": "https://localhost:8080/"
        },
        "id": "DNQ0McoAO9OE",
        "outputId": "6d7c2edb-d0e9-4b81-be85-7994ce04581d"
      },
      "execution_count": null,
      "outputs": [
        {
          "output_type": "execute_result",
          "data": {
            "text/plain": [
              "<tensorflow.python.eager.context._EagerDeviceContext at 0x7f7bb5062e40>"
            ]
          },
          "metadata": {},
          "execution_count": 3
        }
      ]
    },
    {
      "cell_type": "code",
      "source": [
        "data_df = pd.read_csv('label_preprocessed.csv')\n",
        "data_df = data_df.drop(['URL'], axis=1)"
      ],
      "metadata": {
        "id": "_15IYSDnVjkY"
      },
      "execution_count": null,
      "outputs": []
    },
    {
      "cell_type": "code",
      "source": [
        "data_df"
      ],
      "metadata": {
        "colab": {
          "base_uri": "https://localhost:8080/",
          "height": 990
        },
        "id": "Pv54_RKiHTp-",
        "outputId": "d36742f5-e1b2-43ca-9686-29fa0f8b6618"
      },
      "execution_count": null,
      "outputs": [
        {
          "output_type": "execute_result",
          "data": {
            "text/plain": [
              "      ExpPeriod    Salary       Age   Gender  WorkType  WorkSchedule  \\\n",
              "0     -1.048106 -0.032825 -0.851000      2.0       1.0           0.0   \n",
              "1     -1.216159 -0.032825 -1.144948      2.0       1.0           0.0   \n",
              "2     -0.593374 -0.032825  0.104330      2.0       1.0           0.0   \n",
              "3     -0.375894 -0.032825 -0.557052      3.0       1.0           0.0   \n",
              "4     -1.067877 -0.032825 -0.924487      2.0       1.0           0.0   \n",
              "...         ...       ...       ...      ...       ...           ...   \n",
              "9557   0.167807 -0.032825 -0.263104      0.0       1.0           0.0   \n",
              "9558   0.909217 -0.032825 -0.263104      1.0       1.0           0.0   \n",
              "9559  -0.148528 -0.032825 -0.263104      1.0       1.0           0.0   \n",
              "9560   1.156354 -0.032825  0.471765      1.0       1.0           0.0   \n",
              "9561   0.523684 -0.032825  0.030843      1.0       1.0           0.0   \n",
              "\n",
              "      N_places                                       LastWorkDesc  \\\n",
              "0    -0.311920  работ проект image реcогнитионобеспечен полнот...   \n",
              "1    -0.974429       доработк оптимизац сqлзапрос сбор витрин дан   \n",
              "2     0.350588  работ аналитическ отчетностьюосновн этап работ...   \n",
              "3    -0.643175  девелопмент техподдержк bi сист приложен платф...   \n",
              "4    -0.643175  проведен исследован отток клиент создан витрин...   \n",
              "...        ...                                                ...   \n",
              "9557  0.350588  написан бизнестребован согласн поставлен задач...   \n",
              "9558 -1.305683                                      анализ сведен   \n",
              "9559  0.350588  обязанностиобработк входя звонк сообщен кандид...   \n",
              "9560  1.013097  • подготовк отчетн мсфо иностра компан юрисдик...   \n",
              "9561 -0.974429  работ клиент все территор рф развит дилерск се...   \n",
              "\n",
              "                                          LastWorkDesc2  Top 10 work  ...  \\\n",
              "0     работ отдел nka бизнес детск питанияформирован...          0.0  ...   \n",
              "1     работ big datapythonsqldbt yandex datalens exc...          0.0  ...   \n",
              "2     администрирован систем управлен звонкамиразраб...          0.0  ...   \n",
              "3     расчет автоматизац расчет заработн плат прем л...          0.0  ...   \n",
              "4     выполнен adhoc запрос руководств подготовк отч...          0.0  ...   \n",
              "...                                                 ...          ...  ...   \n",
              "9557  формирован ежедневн ежемесячн ежеквартальн отч...          0.0  ...   \n",
              "9558                                                NaN          0.0  ...   \n",
              "9559  мо обязан вход ежедневн обработк обзвон отклик...          0.0  ...   \n",
              "9560  организац работ подготовк управленческ отчетн ...          0.0  ...   \n",
              "9561  активн поиск нов работ «старыми» постоя клиент...          0.0  ...   \n",
              "\n",
              "                                            Description  Python  SQL  \\\n",
              "0                                     academic ielts 80     1.0  1.0   \n",
              "1     имеет оп создан андроидприложен kotlin вебсерв...     1.0  1.0   \n",
              "2     ключев знан навыкикачествен анализ дан разрабо...     1.0  1.0   \n",
              "3     энергичн быстр обучаем открыт хобб спорт путеш...     0.0  1.0   \n",
              "4     отвеча мессенджер почтуинтерес анализ дан им о...     1.0  1.0   \n",
              "...                                                 ...     ...  ...   \n",
              "9557      семейн положен женат дет жела график работ 52     0.0  0.0   \n",
              "9558       коммуникабельн стрессоустойчив работоспособн     0.0  0.0   \n",
              "9559  коммуникабельн гибк целеустремлен исполнительн...     0.0  0.0   \n",
              "9560  зна участк работ универсальн коммерческ банк в...     0.0  0.0   \n",
              "9561  ms windows 2000 word excel 1спредприят 80 знан...     0.0  0.0   \n",
              "\n",
              "      Power BI    N_Unis  Top 10 Uni top_city  EduLevelCat  DataAnalyst  \\\n",
              "0          1.0  3.785271         0.0      1.0          2.0          1.0   \n",
              "1          0.0 -0.692166         0.0      1.0          1.0          1.0   \n",
              "2          1.0 -0.692166         0.0      0.0          1.0          1.0   \n",
              "3          1.0  0.427193         0.0      1.0          2.0          1.0   \n",
              "4          1.0  1.546553         0.0      1.0          2.0          1.0   \n",
              "...        ...       ...         ...      ...          ...          ...   \n",
              "9557       0.0 -0.692166         0.0      1.0          1.0          0.0   \n",
              "9558       0.0 -0.692166         0.0      1.0          1.0          0.0   \n",
              "9559       0.0 -0.692166         0.0      0.0          1.0          0.0   \n",
              "9560       0.0  0.427193         0.0      1.0          2.0          0.0   \n",
              "9561       0.0  0.427193         0.0      1.0          1.0          0.0   \n",
              "\n",
              "      DataScientist  \n",
              "0               0.0  \n",
              "1               0.0  \n",
              "2               1.0  \n",
              "3               0.0  \n",
              "4               0.0  \n",
              "...             ...  \n",
              "9557            0.0  \n",
              "9558            0.0  \n",
              "9559            0.0  \n",
              "9560            0.0  \n",
              "9561            0.0  \n",
              "\n",
              "[9562 rows x 26 columns]"
            ],
            "text/html": [
              "\n",
              "  <div id=\"df-c4876a02-c5f8-4c32-9e7d-7c5011c72583\">\n",
              "    <div class=\"colab-df-container\">\n",
              "      <div>\n",
              "<style scoped>\n",
              "    .dataframe tbody tr th:only-of-type {\n",
              "        vertical-align: middle;\n",
              "    }\n",
              "\n",
              "    .dataframe tbody tr th {\n",
              "        vertical-align: top;\n",
              "    }\n",
              "\n",
              "    .dataframe thead th {\n",
              "        text-align: right;\n",
              "    }\n",
              "</style>\n",
              "<table border=\"1\" class=\"dataframe\">\n",
              "  <thead>\n",
              "    <tr style=\"text-align: right;\">\n",
              "      <th></th>\n",
              "      <th>ExpPeriod</th>\n",
              "      <th>Salary</th>\n",
              "      <th>Age</th>\n",
              "      <th>Gender</th>\n",
              "      <th>WorkType</th>\n",
              "      <th>WorkSchedule</th>\n",
              "      <th>N_places</th>\n",
              "      <th>LastWorkDesc</th>\n",
              "      <th>LastWorkDesc2</th>\n",
              "      <th>Top 10 work</th>\n",
              "      <th>...</th>\n",
              "      <th>Description</th>\n",
              "      <th>Python</th>\n",
              "      <th>SQL</th>\n",
              "      <th>Power BI</th>\n",
              "      <th>N_Unis</th>\n",
              "      <th>Top 10 Uni</th>\n",
              "      <th>top_city</th>\n",
              "      <th>EduLevelCat</th>\n",
              "      <th>DataAnalyst</th>\n",
              "      <th>DataScientist</th>\n",
              "    </tr>\n",
              "  </thead>\n",
              "  <tbody>\n",
              "    <tr>\n",
              "      <th>0</th>\n",
              "      <td>-1.048106</td>\n",
              "      <td>-0.032825</td>\n",
              "      <td>-0.851000</td>\n",
              "      <td>2.0</td>\n",
              "      <td>1.0</td>\n",
              "      <td>0.0</td>\n",
              "      <td>-0.311920</td>\n",
              "      <td>работ проект image реcогнитионобеспечен полнот...</td>\n",
              "      <td>работ отдел nka бизнес детск питанияформирован...</td>\n",
              "      <td>0.0</td>\n",
              "      <td>...</td>\n",
              "      <td>academic ielts 80</td>\n",
              "      <td>1.0</td>\n",
              "      <td>1.0</td>\n",
              "      <td>1.0</td>\n",
              "      <td>3.785271</td>\n",
              "      <td>0.0</td>\n",
              "      <td>1.0</td>\n",
              "      <td>2.0</td>\n",
              "      <td>1.0</td>\n",
              "      <td>0.0</td>\n",
              "    </tr>\n",
              "    <tr>\n",
              "      <th>1</th>\n",
              "      <td>-1.216159</td>\n",
              "      <td>-0.032825</td>\n",
              "      <td>-1.144948</td>\n",
              "      <td>2.0</td>\n",
              "      <td>1.0</td>\n",
              "      <td>0.0</td>\n",
              "      <td>-0.974429</td>\n",
              "      <td>доработк оптимизац сqлзапрос сбор витрин дан</td>\n",
              "      <td>работ big datapythonsqldbt yandex datalens exc...</td>\n",
              "      <td>0.0</td>\n",
              "      <td>...</td>\n",
              "      <td>имеет оп создан андроидприложен kotlin вебсерв...</td>\n",
              "      <td>1.0</td>\n",
              "      <td>1.0</td>\n",
              "      <td>0.0</td>\n",
              "      <td>-0.692166</td>\n",
              "      <td>0.0</td>\n",
              "      <td>1.0</td>\n",
              "      <td>1.0</td>\n",
              "      <td>1.0</td>\n",
              "      <td>0.0</td>\n",
              "    </tr>\n",
              "    <tr>\n",
              "      <th>2</th>\n",
              "      <td>-0.593374</td>\n",
              "      <td>-0.032825</td>\n",
              "      <td>0.104330</td>\n",
              "      <td>2.0</td>\n",
              "      <td>1.0</td>\n",
              "      <td>0.0</td>\n",
              "      <td>0.350588</td>\n",
              "      <td>работ аналитическ отчетностьюосновн этап работ...</td>\n",
              "      <td>администрирован систем управлен звонкамиразраб...</td>\n",
              "      <td>0.0</td>\n",
              "      <td>...</td>\n",
              "      <td>ключев знан навыкикачествен анализ дан разрабо...</td>\n",
              "      <td>1.0</td>\n",
              "      <td>1.0</td>\n",
              "      <td>1.0</td>\n",
              "      <td>-0.692166</td>\n",
              "      <td>0.0</td>\n",
              "      <td>0.0</td>\n",
              "      <td>1.0</td>\n",
              "      <td>1.0</td>\n",
              "      <td>1.0</td>\n",
              "    </tr>\n",
              "    <tr>\n",
              "      <th>3</th>\n",
              "      <td>-0.375894</td>\n",
              "      <td>-0.032825</td>\n",
              "      <td>-0.557052</td>\n",
              "      <td>3.0</td>\n",
              "      <td>1.0</td>\n",
              "      <td>0.0</td>\n",
              "      <td>-0.643175</td>\n",
              "      <td>девелопмент техподдержк bi сист приложен платф...</td>\n",
              "      <td>расчет автоматизац расчет заработн плат прем л...</td>\n",
              "      <td>0.0</td>\n",
              "      <td>...</td>\n",
              "      <td>энергичн быстр обучаем открыт хобб спорт путеш...</td>\n",
              "      <td>0.0</td>\n",
              "      <td>1.0</td>\n",
              "      <td>1.0</td>\n",
              "      <td>0.427193</td>\n",
              "      <td>0.0</td>\n",
              "      <td>1.0</td>\n",
              "      <td>2.0</td>\n",
              "      <td>1.0</td>\n",
              "      <td>0.0</td>\n",
              "    </tr>\n",
              "    <tr>\n",
              "      <th>4</th>\n",
              "      <td>-1.067877</td>\n",
              "      <td>-0.032825</td>\n",
              "      <td>-0.924487</td>\n",
              "      <td>2.0</td>\n",
              "      <td>1.0</td>\n",
              "      <td>0.0</td>\n",
              "      <td>-0.643175</td>\n",
              "      <td>проведен исследован отток клиент создан витрин...</td>\n",
              "      <td>выполнен adhoc запрос руководств подготовк отч...</td>\n",
              "      <td>0.0</td>\n",
              "      <td>...</td>\n",
              "      <td>отвеча мессенджер почтуинтерес анализ дан им о...</td>\n",
              "      <td>1.0</td>\n",
              "      <td>1.0</td>\n",
              "      <td>1.0</td>\n",
              "      <td>1.546553</td>\n",
              "      <td>0.0</td>\n",
              "      <td>1.0</td>\n",
              "      <td>2.0</td>\n",
              "      <td>1.0</td>\n",
              "      <td>0.0</td>\n",
              "    </tr>\n",
              "    <tr>\n",
              "      <th>...</th>\n",
              "      <td>...</td>\n",
              "      <td>...</td>\n",
              "      <td>...</td>\n",
              "      <td>...</td>\n",
              "      <td>...</td>\n",
              "      <td>...</td>\n",
              "      <td>...</td>\n",
              "      <td>...</td>\n",
              "      <td>...</td>\n",
              "      <td>...</td>\n",
              "      <td>...</td>\n",
              "      <td>...</td>\n",
              "      <td>...</td>\n",
              "      <td>...</td>\n",
              "      <td>...</td>\n",
              "      <td>...</td>\n",
              "      <td>...</td>\n",
              "      <td>...</td>\n",
              "      <td>...</td>\n",
              "      <td>...</td>\n",
              "      <td>...</td>\n",
              "    </tr>\n",
              "    <tr>\n",
              "      <th>9557</th>\n",
              "      <td>0.167807</td>\n",
              "      <td>-0.032825</td>\n",
              "      <td>-0.263104</td>\n",
              "      <td>0.0</td>\n",
              "      <td>1.0</td>\n",
              "      <td>0.0</td>\n",
              "      <td>0.350588</td>\n",
              "      <td>написан бизнестребован согласн поставлен задач...</td>\n",
              "      <td>формирован ежедневн ежемесячн ежеквартальн отч...</td>\n",
              "      <td>0.0</td>\n",
              "      <td>...</td>\n",
              "      <td>семейн положен женат дет жела график работ 52</td>\n",
              "      <td>0.0</td>\n",
              "      <td>0.0</td>\n",
              "      <td>0.0</td>\n",
              "      <td>-0.692166</td>\n",
              "      <td>0.0</td>\n",
              "      <td>1.0</td>\n",
              "      <td>1.0</td>\n",
              "      <td>0.0</td>\n",
              "      <td>0.0</td>\n",
              "    </tr>\n",
              "    <tr>\n",
              "      <th>9558</th>\n",
              "      <td>0.909217</td>\n",
              "      <td>-0.032825</td>\n",
              "      <td>-0.263104</td>\n",
              "      <td>1.0</td>\n",
              "      <td>1.0</td>\n",
              "      <td>0.0</td>\n",
              "      <td>-1.305683</td>\n",
              "      <td>анализ сведен</td>\n",
              "      <td>NaN</td>\n",
              "      <td>0.0</td>\n",
              "      <td>...</td>\n",
              "      <td>коммуникабельн стрессоустойчив работоспособн</td>\n",
              "      <td>0.0</td>\n",
              "      <td>0.0</td>\n",
              "      <td>0.0</td>\n",
              "      <td>-0.692166</td>\n",
              "      <td>0.0</td>\n",
              "      <td>1.0</td>\n",
              "      <td>1.0</td>\n",
              "      <td>0.0</td>\n",
              "      <td>0.0</td>\n",
              "    </tr>\n",
              "    <tr>\n",
              "      <th>9559</th>\n",
              "      <td>-0.148528</td>\n",
              "      <td>-0.032825</td>\n",
              "      <td>-0.263104</td>\n",
              "      <td>1.0</td>\n",
              "      <td>1.0</td>\n",
              "      <td>0.0</td>\n",
              "      <td>0.350588</td>\n",
              "      <td>обязанностиобработк входя звонк сообщен кандид...</td>\n",
              "      <td>мо обязан вход ежедневн обработк обзвон отклик...</td>\n",
              "      <td>0.0</td>\n",
              "      <td>...</td>\n",
              "      <td>коммуникабельн гибк целеустремлен исполнительн...</td>\n",
              "      <td>0.0</td>\n",
              "      <td>0.0</td>\n",
              "      <td>0.0</td>\n",
              "      <td>-0.692166</td>\n",
              "      <td>0.0</td>\n",
              "      <td>0.0</td>\n",
              "      <td>1.0</td>\n",
              "      <td>0.0</td>\n",
              "      <td>0.0</td>\n",
              "    </tr>\n",
              "    <tr>\n",
              "      <th>9560</th>\n",
              "      <td>1.156354</td>\n",
              "      <td>-0.032825</td>\n",
              "      <td>0.471765</td>\n",
              "      <td>1.0</td>\n",
              "      <td>1.0</td>\n",
              "      <td>0.0</td>\n",
              "      <td>1.013097</td>\n",
              "      <td>• подготовк отчетн мсфо иностра компан юрисдик...</td>\n",
              "      <td>организац работ подготовк управленческ отчетн ...</td>\n",
              "      <td>0.0</td>\n",
              "      <td>...</td>\n",
              "      <td>зна участк работ универсальн коммерческ банк в...</td>\n",
              "      <td>0.0</td>\n",
              "      <td>0.0</td>\n",
              "      <td>0.0</td>\n",
              "      <td>0.427193</td>\n",
              "      <td>0.0</td>\n",
              "      <td>1.0</td>\n",
              "      <td>2.0</td>\n",
              "      <td>0.0</td>\n",
              "      <td>0.0</td>\n",
              "    </tr>\n",
              "    <tr>\n",
              "      <th>9561</th>\n",
              "      <td>0.523684</td>\n",
              "      <td>-0.032825</td>\n",
              "      <td>0.030843</td>\n",
              "      <td>1.0</td>\n",
              "      <td>1.0</td>\n",
              "      <td>0.0</td>\n",
              "      <td>-0.974429</td>\n",
              "      <td>работ клиент все территор рф развит дилерск се...</td>\n",
              "      <td>активн поиск нов работ «старыми» постоя клиент...</td>\n",
              "      <td>0.0</td>\n",
              "      <td>...</td>\n",
              "      <td>ms windows 2000 word excel 1спредприят 80 знан...</td>\n",
              "      <td>0.0</td>\n",
              "      <td>0.0</td>\n",
              "      <td>0.0</td>\n",
              "      <td>0.427193</td>\n",
              "      <td>0.0</td>\n",
              "      <td>1.0</td>\n",
              "      <td>1.0</td>\n",
              "      <td>0.0</td>\n",
              "      <td>0.0</td>\n",
              "    </tr>\n",
              "  </tbody>\n",
              "</table>\n",
              "<p>9562 rows × 26 columns</p>\n",
              "</div>\n",
              "      <button class=\"colab-df-convert\" onclick=\"convertToInteractive('df-c4876a02-c5f8-4c32-9e7d-7c5011c72583')\"\n",
              "              title=\"Convert this dataframe to an interactive table.\"\n",
              "              style=\"display:none;\">\n",
              "        \n",
              "  <svg xmlns=\"http://www.w3.org/2000/svg\" height=\"24px\"viewBox=\"0 0 24 24\"\n",
              "       width=\"24px\">\n",
              "    <path d=\"M0 0h24v24H0V0z\" fill=\"none\"/>\n",
              "    <path d=\"M18.56 5.44l.94 2.06.94-2.06 2.06-.94-2.06-.94-.94-2.06-.94 2.06-2.06.94zm-11 1L8.5 8.5l.94-2.06 2.06-.94-2.06-.94L8.5 2.5l-.94 2.06-2.06.94zm10 10l.94 2.06.94-2.06 2.06-.94-2.06-.94-.94-2.06-.94 2.06-2.06.94z\"/><path d=\"M17.41 7.96l-1.37-1.37c-.4-.4-.92-.59-1.43-.59-.52 0-1.04.2-1.43.59L10.3 9.45l-7.72 7.72c-.78.78-.78 2.05 0 2.83L4 21.41c.39.39.9.59 1.41.59.51 0 1.02-.2 1.41-.59l7.78-7.78 2.81-2.81c.8-.78.8-2.07 0-2.86zM5.41 20L4 18.59l7.72-7.72 1.47 1.35L5.41 20z\"/>\n",
              "  </svg>\n",
              "      </button>\n",
              "      \n",
              "  <style>\n",
              "    .colab-df-container {\n",
              "      display:flex;\n",
              "      flex-wrap:wrap;\n",
              "      gap: 12px;\n",
              "    }\n",
              "\n",
              "    .colab-df-convert {\n",
              "      background-color: #E8F0FE;\n",
              "      border: none;\n",
              "      border-radius: 50%;\n",
              "      cursor: pointer;\n",
              "      display: none;\n",
              "      fill: #1967D2;\n",
              "      height: 32px;\n",
              "      padding: 0 0 0 0;\n",
              "      width: 32px;\n",
              "    }\n",
              "\n",
              "    .colab-df-convert:hover {\n",
              "      background-color: #E2EBFA;\n",
              "      box-shadow: 0px 1px 2px rgba(60, 64, 67, 0.3), 0px 1px 3px 1px rgba(60, 64, 67, 0.15);\n",
              "      fill: #174EA6;\n",
              "    }\n",
              "\n",
              "    [theme=dark] .colab-df-convert {\n",
              "      background-color: #3B4455;\n",
              "      fill: #D2E3FC;\n",
              "    }\n",
              "\n",
              "    [theme=dark] .colab-df-convert:hover {\n",
              "      background-color: #434B5C;\n",
              "      box-shadow: 0px 1px 3px 1px rgba(0, 0, 0, 0.15);\n",
              "      filter: drop-shadow(0px 1px 2px rgba(0, 0, 0, 0.3));\n",
              "      fill: #FFFFFF;\n",
              "    }\n",
              "  </style>\n",
              "\n",
              "      <script>\n",
              "        const buttonEl =\n",
              "          document.querySelector('#df-c4876a02-c5f8-4c32-9e7d-7c5011c72583 button.colab-df-convert');\n",
              "        buttonEl.style.display =\n",
              "          google.colab.kernel.accessAllowed ? 'block' : 'none';\n",
              "\n",
              "        async function convertToInteractive(key) {\n",
              "          const element = document.querySelector('#df-c4876a02-c5f8-4c32-9e7d-7c5011c72583');\n",
              "          const dataTable =\n",
              "            await google.colab.kernel.invokeFunction('convertToInteractive',\n",
              "                                                     [key], {});\n",
              "          if (!dataTable) return;\n",
              "\n",
              "          const docLinkHtml = 'Like what you see? Visit the ' +\n",
              "            '<a target=\"_blank\" href=https://colab.research.google.com/notebooks/data_table.ipynb>data table notebook</a>'\n",
              "            + ' to learn more about interactive tables.';\n",
              "          element.innerHTML = '';\n",
              "          dataTable['output_type'] = 'display_data';\n",
              "          await google.colab.output.renderOutput(dataTable, element);\n",
              "          const docLink = document.createElement('div');\n",
              "          docLink.innerHTML = docLinkHtml;\n",
              "          element.appendChild(docLink);\n",
              "        }\n",
              "      </script>\n",
              "    </div>\n",
              "  </div>\n",
              "  "
            ]
          },
          "metadata": {},
          "execution_count": 5
        }
      ]
    },
    {
      "cell_type": "markdown",
      "source": [
        "# Preparing Data Text - Unbalanced"
      ],
      "metadata": {
        "id": "TEGsuHzEcNO1"
      }
    },
    {
      "cell_type": "code",
      "source": [
        "# The maximum number of words to be used. (most frequent)\n",
        "MAX_NB_WORDS = 50000\n",
        "# Max number of words in each complaint.\n",
        "MAX_SEQUENCE_LENGTH = 250\n",
        "# This is fixed.\n",
        "EMBEDDING_DIM = 100\n",
        "tokenizer = tf.keras.preprocessing.text.Tokenizer(num_words=MAX_NB_WORDS, filters='!\"#$%&()*+,-./:;<=>?@[\\]^_`{|}~', lower=True)"
      ],
      "metadata": {
        "id": "QkXFaq-acKkx"
      },
      "execution_count": null,
      "outputs": []
    },
    {
      "cell_type": "code",
      "source": [
        "def concating_features(features, df):\n",
        "  sen_w_feats = []\n",
        "  df = df.fillna(\"\")\n",
        "\n",
        "  for (i, row) in df.iterrows():\n",
        "    combined = ''\n",
        "\n",
        "    for col_name in features:\n",
        "      combined += (str(row[col_name]))\n",
        "    \n",
        "    sen_w_feats.append(combined)\n",
        "\n",
        "  df['text'] = sen_w_feats\n",
        "  df = df.drop(features, axis=1)\n",
        "  return df"
      ],
      "metadata": {
        "id": "WhPwjR16XK7q"
      },
      "execution_count": null,
      "outputs": []
    },
    {
      "cell_type": "code",
      "source": [
        "X = data_df.drop(['DataAnalyst', 'DataScientist'], axis=1)\n",
        "y = data_df[['DataAnalyst', 'DataScientist']]"
      ],
      "metadata": {
        "id": "rt1_YJu1X3U2"
      },
      "execution_count": null,
      "outputs": []
    },
    {
      "cell_type": "code",
      "source": [
        "text_features = ['Description', 'LastWorkDesc', 'LastWorkDesc2']"
      ],
      "metadata": {
        "id": "XS6KkThdXPEv"
      },
      "execution_count": null,
      "outputs": []
    },
    {
      "cell_type": "code",
      "source": [
        "data_full = concating_features(text_features, data_df)"
      ],
      "metadata": {
        "id": "DbahnkV076LS"
      },
      "execution_count": null,
      "outputs": []
    },
    {
      "cell_type": "code",
      "source": [
        "X = concating_features(text_features, X)"
      ],
      "metadata": {
        "id": "7QnLuWFC8BP4"
      },
      "execution_count": null,
      "outputs": []
    },
    {
      "cell_type": "code",
      "source": [
        "X_train, X_test, y_train, y_test = train_test_split(X, y, random_state=42, test_size=0.25)"
      ],
      "metadata": {
        "id": "mdhHgXQgS16n"
      },
      "execution_count": null,
      "outputs": []
    },
    {
      "cell_type": "code",
      "source": [
        "tokenizer.fit_on_texts(X_train['text'].values)"
      ],
      "metadata": {
        "id": "ylewbl-qfOCN"
      },
      "execution_count": null,
      "outputs": []
    },
    {
      "cell_type": "code",
      "source": [
        "X_train_text = tokenizer.texts_to_sequences(X_train['text'].values)\n",
        "X_train_text = tf.keras.utils.pad_sequences(X_train_text, maxlen=MAX_SEQUENCE_LENGTH)\n",
        "print('Shape of data tensor:', X_train_text.shape)"
      ],
      "metadata": {
        "colab": {
          "base_uri": "https://localhost:8080/"
        },
        "id": "F56tYPsa-ASd",
        "outputId": "40cbcc73-ca00-4105-8c80-2498b5eee8b0"
      },
      "execution_count": null,
      "outputs": [
        {
          "output_type": "stream",
          "name": "stdout",
          "text": [
            "Shape of data tensor: (7171, 250)\n"
          ]
        }
      ]
    },
    {
      "cell_type": "code",
      "source": [
        "X_test_text = tokenizer.texts_to_sequences(X_test['text'].values)\n",
        "X_test_text = tf.keras.utils.pad_sequences(X_test_text, maxlen=MAX_SEQUENCE_LENGTH)\n",
        "print('Shape of data tensor:', X_test_text.shape)"
      ],
      "metadata": {
        "colab": {
          "base_uri": "https://localhost:8080/"
        },
        "id": "5xBlfM8TYftc",
        "outputId": "a006f6bd-6d55-4f72-f1a9-4db49c22e7f5"
      },
      "execution_count": null,
      "outputs": [
        {
          "output_type": "stream",
          "name": "stdout",
          "text": [
            "Shape of data tensor: (2391, 250)\n"
          ]
        }
      ]
    },
    {
      "cell_type": "code",
      "source": [
        "class_weights_da = class_weight.compute_class_weight(class_weight='balanced', classes = np.unique(y_train['DataAnalyst'].values), y=y_train['DataAnalyst'].values)\n",
        "class_weights_ds = class_weight.compute_class_weight(class_weight='balanced', classes = np.unique(y_train['DataScientist'].values), y=y_train['DataScientist'].values)"
      ],
      "metadata": {
        "id": "_LSfEn5fPPE6"
      },
      "execution_count": null,
      "outputs": []
    },
    {
      "cell_type": "code",
      "source": [
        "y_da_train = tf.convert_to_tensor(y_train['DataAnalyst'].values, dtype=tf.int64)\n",
        "y_ds_train = tf.convert_to_tensor(y_train['DataScientist'].values)\n",
        "\n",
        "y_da_test = tf.convert_to_tensor(y_test['DataAnalyst'].values, dtype=tf.int64)\n",
        "y_ds_test = tf.convert_to_tensor(y_test['DataScientist'].values)"
      ],
      "metadata": {
        "id": "1YsuyvoY-ktl"
      },
      "execution_count": null,
      "outputs": []
    },
    {
      "cell_type": "code",
      "source": [
        "X_num_train = tf.convert_to_tensor(X_train.drop(['text'], axis=1).values, dtype=tf.float64)\n",
        "X_num_test = tf.convert_to_tensor(X_test.drop(['text'], axis=1).values, dtype=tf.float64)"
      ],
      "metadata": {
        "id": "vQB2AkFGHa_r"
      },
      "execution_count": null,
      "outputs": []
    },
    {
      "cell_type": "markdown",
      "source": [
        "# Undersampling"
      ],
      "metadata": {
        "id": "gjjoBXhPgGV7"
      }
    },
    {
      "cell_type": "code",
      "source": [
        "df_da_1 = data_full[data_full['DataAnalyst']==1]\n",
        "df_da_0 = data_full[data_full['DataAnalyst']==0]\n",
        "df_da_0 = df_da_0.sample(len(df_da_1))\n",
        "\n",
        "df_da_undersampling = df_da_0.append(df_da_1)\n",
        "df_da_undersampling = df_da_undersampling.sample(frac=1).reset_index(drop=True)\n",
        "df_da_undersampling = df_da_undersampling.drop(['DataScientist'], axis=1)\n",
        "\n",
        "X_da_undersampling, y_da_undersampling = df_da_undersampling.drop(['DataAnalyst'], axis=1), df_da_undersampling['DataAnalyst']"
      ],
      "metadata": {
        "colab": {
          "base_uri": "https://localhost:8080/"
        },
        "id": "djIWIuNsgI7I",
        "outputId": "98db197b-3b4e-4636-86d1-574fcd60295e"
      },
      "execution_count": null,
      "outputs": [
        {
          "output_type": "stream",
          "name": "stderr",
          "text": [
            "<ipython-input-19-b79e93d79252>:5: FutureWarning: The frame.append method is deprecated and will be removed from pandas in a future version. Use pandas.concat instead.\n",
            "  df_da_undersampling = df_da_0.append(df_da_1)\n"
          ]
        }
      ]
    },
    {
      "cell_type": "code",
      "source": [
        "df_ds_1 = data_full[data_full['DataScientist']==1]\n",
        "df_ds_0 = data_full[data_full['DataScientist']==0]\n",
        "df_ds_0 = df_ds_0.sample(len(df_ds_1))\n",
        "\n",
        "df_ds_undersampling = df_ds_0.append(df_ds_1)\n",
        "df_ds_undersampling = df_ds_undersampling.sample(frac=1).reset_index(drop=True)\n",
        "df_ds_undersampling = df_ds_undersampling.drop(['DataAnalyst'], axis=1)\n",
        "\n",
        "X_ds_undersampling, y_ds_undersampling = df_ds_undersampling.drop(['DataScientist'], axis=1), df_ds_undersampling['DataScientist']"
      ],
      "metadata": {
        "colab": {
          "base_uri": "https://localhost:8080/"
        },
        "id": "aE8xznApgPLG",
        "outputId": "16746c1d-416d-4683-c50b-b7536a68cb95"
      },
      "execution_count": null,
      "outputs": [
        {
          "output_type": "stream",
          "name": "stderr",
          "text": [
            "<ipython-input-20-59113de0f258>:5: FutureWarning: The frame.append method is deprecated and will be removed from pandas in a future version. Use pandas.concat instead.\n",
            "  df_ds_undersampling = df_ds_0.append(df_ds_1)\n"
          ]
        }
      ]
    },
    {
      "cell_type": "code",
      "source": [
        "X_full_text = tokenizer.texts_to_sequences(data_full['text'].values)\n",
        "X_full_text = tf.keras.utils.pad_sequences(X_full_text, maxlen=MAX_SEQUENCE_LENGTH)\n",
        "print('Shape of data tensor:', X_full_text.shape)"
      ],
      "metadata": {
        "colab": {
          "base_uri": "https://localhost:8080/"
        },
        "id": "BJzmcdjz7eOI",
        "outputId": "1a6c60c8-e656-4a02-de07-68a9cf129f04"
      },
      "execution_count": null,
      "outputs": [
        {
          "output_type": "stream",
          "name": "stdout",
          "text": [
            "Shape of data tensor: (9562, 250)\n"
          ]
        }
      ]
    },
    {
      "cell_type": "code",
      "source": [
        "X_da_text_under = tokenizer.texts_to_sequences(X_da_undersampling['text'].values)\n",
        "X_da_text_under = tf.keras.utils.pad_sequences(X_da_text_under, maxlen=MAX_SEQUENCE_LENGTH)\n",
        "print('Shape of data tensor:', X_da_text_under.shape)"
      ],
      "metadata": {
        "colab": {
          "base_uri": "https://localhost:8080/"
        },
        "id": "kiiuBHUf6t4c",
        "outputId": "e3d677f4-b477-4fe0-d909-52d4d598b8b0"
      },
      "execution_count": null,
      "outputs": [
        {
          "output_type": "stream",
          "name": "stdout",
          "text": [
            "Shape of data tensor: (1374, 250)\n"
          ]
        }
      ]
    },
    {
      "cell_type": "code",
      "source": [
        "X_ds_text_under = tokenizer.texts_to_sequences(X_ds_undersampling['text'].values)\n",
        "X_ds_text_under = tf.keras.utils.pad_sequences(X_ds_text_under, maxlen=MAX_SEQUENCE_LENGTH)\n",
        "print('Shape of data tensor:', X_ds_text_under.shape)"
      ],
      "metadata": {
        "colab": {
          "base_uri": "https://localhost:8080/"
        },
        "id": "01PAodRh87xz",
        "outputId": "a7e62948-4dc0-49f0-92f6-d6254e2ab68e"
      },
      "execution_count": null,
      "outputs": [
        {
          "output_type": "stream",
          "name": "stdout",
          "text": [
            "Shape of data tensor: (222, 250)\n"
          ]
        }
      ]
    },
    {
      "cell_type": "code",
      "source": [
        "y_da_undersampling = tf.convert_to_tensor(y_da_undersampling, dtype=tf.int64)\n",
        "y_ds_undersampling = tf.convert_to_tensor(y_ds_undersampling, dtype=tf.int64)\n",
        "\n",
        "y_full_da = tf.convert_to_tensor(data_full['DataAnalyst'].values, dtype=tf.int64)\n",
        "y_full_ds = tf.convert_to_tensor(data_full['DataScientist'].values)"
      ],
      "metadata": {
        "id": "7CSud2339QNr"
      },
      "execution_count": null,
      "outputs": []
    },
    {
      "cell_type": "code",
      "source": [
        "X_da_num_under = tf.convert_to_tensor(X_da_undersampling.drop(['text'], axis=1).values, dtype=tf.float64)\n",
        "X_ds_num_under = tf.convert_to_tensor(X_ds_undersampling.drop(['text'], axis=1).values, dtype=tf.float64)\n",
        "X_num_full = tf.convert_to_tensor(data_full.drop(['text', 'DataAnalyst', 'DataScientist'], axis=1).values, dtype=tf.float64)"
      ],
      "metadata": {
        "id": "AKfYeD2S-O4k"
      },
      "execution_count": null,
      "outputs": []
    },
    {
      "cell_type": "markdown",
      "source": [
        "# Model"
      ],
      "metadata": {
        "id": "qRItgNc1dvze"
      }
    },
    {
      "cell_type": "code",
      "source": [
        "\n",
        "nlp_input = Input(shape=(250, )) \n",
        "meta_input = Input(shape=(21,))\n",
        "emb = Embedding(MAX_NB_WORDS, EMBEDDING_DIM, input_length=X_train_text.shape[1])(nlp_input) \n",
        "nlp_out = Bidirectional(LSTM(128))(emb) \n",
        "concat = tf.keras.layers.Concatenate(axis=1)([nlp_out, meta_input]) \n",
        "classifier = Dense(32, activation='relu')(concat) \n",
        "output = Dense(1, activation='sigmoid')(classifier) \n",
        "model = Model(inputs=[nlp_input , meta_input], outputs=[output])"
      ],
      "metadata": {
        "id": "hgdgJJbBZ-ic"
      },
      "execution_count": null,
      "outputs": []
    },
    {
      "cell_type": "code",
      "source": [
        "METRICS = [\n",
        "      tf.keras.metrics.BinaryAccuracy(name='accuracy'),\n",
        "      tf.keras.metrics.Precision(name='precision'),\n",
        "      tf.keras.metrics.Recall(name='recall')\n",
        "]\n",
        "\n",
        "model.compile(optimizer='adam',\n",
        "    loss='binary_crossentropy',\n",
        "    metrics=METRICS)"
      ],
      "metadata": {
        "id": "_tHRxgzGa67P"
      },
      "execution_count": null,
      "outputs": []
    },
    {
      "cell_type": "code",
      "source": [
        "model.summary()"
      ],
      "metadata": {
        "colab": {
          "base_uri": "https://localhost:8080/"
        },
        "id": "0pLDU6LuaNu_",
        "outputId": "b68707ae-138b-4d51-b274-d3504d6d191f"
      },
      "execution_count": null,
      "outputs": [
        {
          "output_type": "stream",
          "name": "stdout",
          "text": [
            "Model: \"model\"\n",
            "__________________________________________________________________________________________________\n",
            " Layer (type)                   Output Shape         Param #     Connected to                     \n",
            "==================================================================================================\n",
            " input_1 (InputLayer)           [(None, 250)]        0           []                               \n",
            "                                                                                                  \n",
            " embedding (Embedding)          (None, 250, 100)     5000000     ['input_1[0][0]']                \n",
            "                                                                                                  \n",
            " bidirectional (Bidirectional)  (None, 256)          234496      ['embedding[0][0]']              \n",
            "                                                                                                  \n",
            " input_2 (InputLayer)           [(None, 21)]         0           []                               \n",
            "                                                                                                  \n",
            " concatenate (Concatenate)      (None, 277)          0           ['bidirectional[0][0]',          \n",
            "                                                                  'input_2[0][0]']                \n",
            "                                                                                                  \n",
            " dense (Dense)                  (None, 32)           8896        ['concatenate[0][0]']            \n",
            "                                                                                                  \n",
            " dense_1 (Dense)                (None, 1)            33          ['dense[0][0]']                  \n",
            "                                                                                                  \n",
            "==================================================================================================\n",
            "Total params: 5,243,425\n",
            "Trainable params: 5,243,425\n",
            "Non-trainable params: 0\n",
            "__________________________________________________________________________________________________\n"
          ]
        }
      ]
    },
    {
      "cell_type": "markdown",
      "source": [
        "## Unbalanced"
      ],
      "metadata": {
        "id": "KdD8Ekis9HB-"
      }
    },
    {
      "cell_type": "code",
      "source": [
        "model.fit([X_train_text, X_num_train], y_da_train, epochs=10)"
      ],
      "metadata": {
        "id": "g75ye6Eidftp",
        "colab": {
          "base_uri": "https://localhost:8080/"
        },
        "outputId": "9ac02edd-fc96-4135-c96b-90bf10762330"
      },
      "execution_count": null,
      "outputs": [
        {
          "output_type": "stream",
          "name": "stdout",
          "text": [
            "Epoch 1/10\n",
            "225/225 [==============================] - 57s 209ms/step - loss: 0.2280 - accuracy: 0.9227 - precision: 0.3394 - recall: 0.1118\n",
            "Epoch 2/10\n",
            "225/225 [==============================] - 36s 159ms/step - loss: 0.1254 - accuracy: 0.9516 - precision: 0.7070 - recall: 0.5250\n",
            "Epoch 3/10\n",
            "225/225 [==============================] - 25s 110ms/step - loss: 0.0620 - accuracy: 0.9806 - precision: 0.8709 - recall: 0.8483\n",
            "Epoch 4/10\n",
            "225/225 [==============================] - 18s 80ms/step - loss: 0.0258 - accuracy: 0.9927 - precision: 0.9648 - recall: 0.9301\n",
            "Epoch 5/10\n",
            "225/225 [==============================] - 14s 61ms/step - loss: 0.0095 - accuracy: 0.9969 - precision: 0.9800 - recall: 0.9760\n",
            "Epoch 6/10\n",
            "225/225 [==============================] - 14s 61ms/step - loss: 0.0053 - accuracy: 0.9983 - precision: 0.9861 - recall: 0.9900\n",
            "Epoch 7/10\n",
            "225/225 [==============================] - 12s 54ms/step - loss: 0.0015 - accuracy: 0.9997 - precision: 0.9960 - recall: 1.0000\n",
            "Epoch 8/10\n",
            "225/225 [==============================] - 10s 45ms/step - loss: 7.2339e-04 - accuracy: 0.9999 - precision: 1.0000 - recall: 0.9980\n",
            "Epoch 9/10\n",
            "225/225 [==============================] - 8s 37ms/step - loss: 0.0012 - accuracy: 0.9997 - precision: 0.9980 - recall: 0.9980\n",
            "Epoch 10/10\n",
            "225/225 [==============================] - 9s 40ms/step - loss: 8.8278e-04 - accuracy: 0.9997 - precision: 0.9980 - recall: 0.9980\n"
          ]
        },
        {
          "output_type": "execute_result",
          "data": {
            "text/plain": [
              "<keras.callbacks.History at 0x7f7b18f3e620>"
            ]
          },
          "metadata": {},
          "execution_count": 29
        }
      ]
    },
    {
      "cell_type": "code",
      "source": [
        "y_pred_da = model.predict([X_test_text, X_num_test])"
      ],
      "metadata": {
        "id": "0T_vCD8PQ-bf",
        "colab": {
          "base_uri": "https://localhost:8080/"
        },
        "outputId": "f6bbf6dc-bc6d-44e7-c03a-75a190a16f02"
      },
      "execution_count": null,
      "outputs": [
        {
          "output_type": "stream",
          "name": "stdout",
          "text": [
            "75/75 [==============================] - 1s 10ms/step\n"
          ]
        }
      ]
    },
    {
      "cell_type": "code",
      "source": [
        "y_pred_da = y_pred_da.flatten()"
      ],
      "metadata": {
        "id": "RjTzaEUNb4xE"
      },
      "execution_count": null,
      "outputs": []
    },
    {
      "cell_type": "code",
      "source": [
        "check_da = np.where(y_pred_da > 0.5, 1, 0)"
      ],
      "metadata": {
        "id": "SI8yXqoXRFKM"
      },
      "execution_count": null,
      "outputs": []
    },
    {
      "cell_type": "code",
      "source": [
        "accuracy_score(check_da, y_da_test)"
      ],
      "metadata": {
        "id": "2vm9W6aYccEf",
        "colab": {
          "base_uri": "https://localhost:8080/"
        },
        "outputId": "7f6c91d7-495a-4efa-c85b-b626d6ae5ee5"
      },
      "execution_count": null,
      "outputs": [
        {
          "output_type": "execute_result",
          "data": {
            "text/plain": [
              "0.9268088665830196"
            ]
          },
          "metadata": {},
          "execution_count": 33
        }
      ]
    },
    {
      "cell_type": "code",
      "source": [
        "f1_score(check_da, y_da_test)"
      ],
      "metadata": {
        "id": "iW4geJhWRYIy",
        "colab": {
          "base_uri": "https://localhost:8080/"
        },
        "outputId": "f6523577-855c-488a-83d5-5fb3a8f157ab"
      },
      "execution_count": null,
      "outputs": [
        {
          "output_type": "execute_result",
          "data": {
            "text/plain": [
              "0.3346007604562738"
            ]
          },
          "metadata": {},
          "execution_count": 34
        }
      ]
    },
    {
      "cell_type": "code",
      "source": [
        "print(precision_score(check_da, y_da_test))\n",
        "print(recall_score(check_da,y_da_test ))"
      ],
      "metadata": {
        "id": "Qlg3MWA1fuRU",
        "colab": {
          "base_uri": "https://localhost:8080/"
        },
        "outputId": "76ea3cf0-a297-4a25-a9e0-b1a6e48ed0f6"
      },
      "execution_count": null,
      "outputs": [
        {
          "output_type": "stream",
          "name": "stdout",
          "text": [
            "0.23655913978494625\n",
            "0.5714285714285714\n"
          ]
        }
      ]
    },
    {
      "cell_type": "code",
      "source": [
        "model.fit([X_train_text, X_num_train], y_ds_train, epochs=10)"
      ],
      "metadata": {
        "id": "OitmXNhucEte",
        "colab": {
          "base_uri": "https://localhost:8080/"
        },
        "outputId": "24ea343c-5c0f-4688-e717-dbdfcf345a2b"
      },
      "execution_count": null,
      "outputs": [
        {
          "output_type": "stream",
          "name": "stdout",
          "text": [
            "Epoch 1/10\n",
            "225/225 [==============================] - 9s 31ms/step - loss: 0.0622 - accuracy: 0.9866 - precision: 0.1111 - recall: 0.0244\n",
            "Epoch 2/10\n",
            "225/225 [==============================] - 7s 32ms/step - loss: 0.0257 - accuracy: 0.9916 - precision: 0.7292 - recall: 0.4268\n",
            "Epoch 3/10\n",
            "225/225 [==============================] - 8s 35ms/step - loss: 0.0093 - accuracy: 0.9974 - precision: 0.9565 - recall: 0.8049\n",
            "Epoch 4/10\n",
            "225/225 [==============================] - 8s 36ms/step - loss: 0.0050 - accuracy: 0.9989 - precision: 0.9744 - recall: 0.9268\n",
            "Epoch 5/10\n",
            "225/225 [==============================] - 8s 34ms/step - loss: 0.0017 - accuracy: 0.9996 - precision: 0.9877 - recall: 0.9756\n",
            "Epoch 6/10\n",
            "225/225 [==============================] - 6s 28ms/step - loss: 6.7008e-04 - accuracy: 0.9997 - precision: 0.9878 - recall: 0.9878\n",
            "Epoch 7/10\n",
            "225/225 [==============================] - 8s 33ms/step - loss: 7.4024e-04 - accuracy: 0.9997 - precision: 0.9878 - recall: 0.9878\n",
            "Epoch 8/10\n",
            "225/225 [==============================] - 8s 35ms/step - loss: 4.0024e-04 - accuracy: 0.9999 - precision: 0.9880 - recall: 1.0000\n",
            "Epoch 9/10\n",
            "225/225 [==============================] - 7s 30ms/step - loss: 3.0531e-04 - accuracy: 0.9997 - precision: 0.9878 - recall: 0.9878\n",
            "Epoch 10/10\n",
            "225/225 [==============================] - 6s 29ms/step - loss: 2.7215e-04 - accuracy: 0.9999 - precision: 0.9880 - recall: 1.0000\n"
          ]
        },
        {
          "output_type": "execute_result",
          "data": {
            "text/plain": [
              "<keras.callbacks.History at 0x7f7b1ff67190>"
            ]
          },
          "metadata": {},
          "execution_count": 36
        }
      ]
    },
    {
      "cell_type": "code",
      "source": [
        "y_pred_ds = model.predict([X_test_text, X_num_test])\n",
        "y_pred_ds = y_pred_da.flatten()"
      ],
      "metadata": {
        "id": "VSkHXKPFcMN0",
        "colab": {
          "base_uri": "https://localhost:8080/"
        },
        "outputId": "5647a2dc-b1f5-4ca7-dbd4-7d0eb6641c0d"
      },
      "execution_count": null,
      "outputs": [
        {
          "output_type": "stream",
          "name": "stdout",
          "text": [
            "75/75 [==============================] - 1s 10ms/step\n"
          ]
        }
      ]
    },
    {
      "cell_type": "code",
      "source": [
        "check_ds = np.where(y_pred_da > 0.5, 1, 0)"
      ],
      "metadata": {
        "id": "YADq2-0FcX2u"
      },
      "execution_count": null,
      "outputs": []
    },
    {
      "cell_type": "code",
      "source": [
        "accuracy_score(check_ds, y_ds_test)"
      ],
      "metadata": {
        "id": "wTpMrdo7dNAO",
        "colab": {
          "base_uri": "https://localhost:8080/"
        },
        "outputId": "85716a8a-46ee-49b3-9876-487ffbd624e0"
      },
      "execution_count": null,
      "outputs": [
        {
          "output_type": "execute_result",
          "data": {
            "text/plain": [
              "0.9657047260560435"
            ]
          },
          "metadata": {},
          "execution_count": 39
        }
      ]
    },
    {
      "cell_type": "code",
      "source": [
        "f1_score(check_ds, y_ds_test)"
      ],
      "metadata": {
        "id": "q0bIbjREcZiY",
        "colab": {
          "base_uri": "https://localhost:8080/"
        },
        "outputId": "38c1d3b7-8db6-42df-dd4c-60b79e92fdeb"
      },
      "execution_count": null,
      "outputs": [
        {
          "output_type": "execute_result",
          "data": {
            "text/plain": [
              "0.22641509433962265"
            ]
          },
          "metadata": {},
          "execution_count": 40
        }
      ]
    },
    {
      "cell_type": "code",
      "source": [
        "print(precision_score(check_ds, y_ds_test))\n",
        "print(recall_score(check_ds,y_ds_test ))"
      ],
      "metadata": {
        "id": "Ar64Zipofkej",
        "colab": {
          "base_uri": "https://localhost:8080/"
        },
        "outputId": "7ed6e6ab-14fe-4c70-83e8-6abe566fcce6"
      },
      "execution_count": null,
      "outputs": [
        {
          "output_type": "stream",
          "name": "stdout",
          "text": [
            "0.41379310344827586\n",
            "0.15584415584415584\n"
          ]
        }
      ]
    },
    {
      "cell_type": "markdown",
      "source": [
        "## Undersampling"
      ],
      "metadata": {
        "id": "_IU7OweW9KdI"
      }
    },
    {
      "cell_type": "code",
      "source": [
        "model.fit([X_da_text_under, X_da_num_under], y_da_undersampling, epochs=10)"
      ],
      "metadata": {
        "id": "kkR55BLj9OHC",
        "colab": {
          "base_uri": "https://localhost:8080/"
        },
        "outputId": "eae9a78e-4cda-4a6b-8b5d-260a7598006f"
      },
      "execution_count": null,
      "outputs": [
        {
          "output_type": "stream",
          "name": "stdout",
          "text": [
            "Epoch 1/10\n",
            "43/43 [==============================] - 1s 30ms/step - loss: 0.6683 - accuracy: 0.8028 - precision: 0.8240 - recall: 0.7700\n",
            "Epoch 2/10\n",
            "43/43 [==============================] - 1s 26ms/step - loss: 0.2016 - accuracy: 0.9345 - precision: 0.9370 - recall: 0.9316\n",
            "Epoch 3/10\n",
            "43/43 [==============================] - 2s 36ms/step - loss: 0.0849 - accuracy: 0.9774 - precision: 0.9838 - recall: 0.9709\n",
            "Epoch 4/10\n",
            "43/43 [==============================] - 1s 21ms/step - loss: 0.0418 - accuracy: 0.9898 - precision: 0.9884 - recall: 0.9913\n",
            "Epoch 5/10\n",
            "43/43 [==============================] - 1s 21ms/step - loss: 0.0222 - accuracy: 0.9942 - precision: 0.9971 - recall: 0.9913\n",
            "Epoch 6/10\n",
            "43/43 [==============================] - 1s 26ms/step - loss: 0.0090 - accuracy: 0.9971 - precision: 0.9971 - recall: 0.9971\n",
            "Epoch 7/10\n",
            "43/43 [==============================] - 1s 31ms/step - loss: 0.0035 - accuracy: 0.9985 - precision: 0.9985 - recall: 0.9985\n",
            "Epoch 8/10\n",
            "43/43 [==============================] - 1s 26ms/step - loss: 0.0019 - accuracy: 0.9993 - precision: 0.9985 - recall: 1.0000\n",
            "Epoch 9/10\n",
            "43/43 [==============================] - 2s 39ms/step - loss: 0.0018 - accuracy: 0.9993 - precision: 1.0000 - recall: 0.9985\n",
            "Epoch 10/10\n",
            "43/43 [==============================] - 2s 36ms/step - loss: 0.0015 - accuracy: 0.9993 - precision: 0.9985 - recall: 1.0000\n"
          ]
        },
        {
          "output_type": "execute_result",
          "data": {
            "text/plain": [
              "<keras.callbacks.History at 0x7f7b1f3361a0>"
            ]
          },
          "metadata": {},
          "execution_count": 42
        }
      ]
    },
    {
      "cell_type": "code",
      "source": [
        "y_pred_da_under = model.predict([X_full_text, X_num_full])"
      ],
      "metadata": {
        "id": "SWCbVHZT-5Oz",
        "colab": {
          "base_uri": "https://localhost:8080/"
        },
        "outputId": "dc237bf5-15e8-448e-8c31-0262d8757742"
      },
      "execution_count": null,
      "outputs": [
        {
          "output_type": "stream",
          "name": "stdout",
          "text": [
            "299/299 [==============================] - 3s 8ms/step\n"
          ]
        }
      ]
    },
    {
      "cell_type": "code",
      "source": [
        "y_pred_da_under = y_pred_da_under.flatten()\n",
        "check_da_under = np.where(y_pred_da_under > 0.5, 1, 0)"
      ],
      "metadata": {
        "id": "Hs_eunHM_N50"
      },
      "execution_count": null,
      "outputs": []
    },
    {
      "cell_type": "code",
      "source": [
        "accuracy_score(check_da_under, y_full_da)"
      ],
      "metadata": {
        "id": "FMbD4QoE_UGB",
        "colab": {
          "base_uri": "https://localhost:8080/"
        },
        "outputId": "0e70e6aa-e586-413d-e0f9-aa7feb7baf21"
      },
      "execution_count": null,
      "outputs": [
        {
          "output_type": "execute_result",
          "data": {
            "text/plain": [
              "0.8985567872829952"
            ]
          },
          "metadata": {},
          "execution_count": 45
        }
      ]
    },
    {
      "cell_type": "code",
      "source": [
        "f1_score(check_da_under, y_full_da)"
      ],
      "metadata": {
        "id": "64J4PgGr_WZr",
        "colab": {
          "base_uri": "https://localhost:8080/"
        },
        "outputId": "67266a45-0cde-4507-c4ee-4bda7058c4d0"
      },
      "execution_count": null,
      "outputs": [
        {
          "output_type": "execute_result",
          "data": {
            "text/plain": [
              "0.5858240819812126"
            ]
          },
          "metadata": {},
          "execution_count": 46
        }
      ]
    },
    {
      "cell_type": "code",
      "source": [
        "print(precision_score(check_da_under, y_full_da))\n",
        "print(recall_score(check_da_under, y_full_da))"
      ],
      "metadata": {
        "id": "En2L8YzjgBtE",
        "colab": {
          "base_uri": "https://localhost:8080/"
        },
        "outputId": "558e051d-6f07-4336-fa91-520727f43c78"
      },
      "execution_count": null,
      "outputs": [
        {
          "output_type": "stream",
          "name": "stdout",
          "text": [
            "0.9985443959243085\n",
            "0.41450151057401813\n"
          ]
        }
      ]
    },
    {
      "cell_type": "code",
      "source": [
        "model.fit([X_ds_text_under, X_ds_num_under], y_ds_undersampling, epochs=10)"
      ],
      "metadata": {
        "id": "uZPB-jEpAZU9",
        "colab": {
          "base_uri": "https://localhost:8080/"
        },
        "outputId": "fd72b700-d60b-4aeb-b5ca-325c250d4921"
      },
      "execution_count": null,
      "outputs": [
        {
          "output_type": "stream",
          "name": "stdout",
          "text": [
            "Epoch 1/10\n",
            "7/7 [==============================] - 0s 30ms/step - loss: 0.3174 - accuracy: 0.9414 - precision: 0.9224 - recall: 0.9640\n",
            "Epoch 2/10\n",
            "7/7 [==============================] - 0s 28ms/step - loss: 0.0758 - accuracy: 0.9685 - precision: 0.9727 - recall: 0.9640\n",
            "Epoch 3/10\n",
            "7/7 [==============================] - 0s 32ms/step - loss: 0.0220 - accuracy: 0.9910 - precision: 1.0000 - recall: 0.9820\n",
            "Epoch 4/10\n",
            "7/7 [==============================] - 1s 143ms/step - loss: 0.0097 - accuracy: 1.0000 - precision: 1.0000 - recall: 1.0000\n",
            "Epoch 5/10\n",
            "7/7 [==============================] - 0s 78ms/step - loss: 0.0069 - accuracy: 1.0000 - precision: 1.0000 - recall: 1.0000\n",
            "Epoch 6/10\n",
            "7/7 [==============================] - 0s 22ms/step - loss: 0.0049 - accuracy: 1.0000 - precision: 1.0000 - recall: 1.0000\n",
            "Epoch 7/10\n",
            "7/7 [==============================] - 0s 57ms/step - loss: 0.0033 - accuracy: 1.0000 - precision: 1.0000 - recall: 1.0000\n",
            "Epoch 8/10\n",
            "7/7 [==============================] - 0s 23ms/step - loss: 0.0026 - accuracy: 1.0000 - precision: 1.0000 - recall: 1.0000\n",
            "Epoch 9/10\n",
            "7/7 [==============================] - 0s 23ms/step - loss: 0.0021 - accuracy: 1.0000 - precision: 1.0000 - recall: 1.0000\n",
            "Epoch 10/10\n",
            "7/7 [==============================] - 0s 23ms/step - loss: 0.0017 - accuracy: 1.0000 - precision: 1.0000 - recall: 1.0000\n"
          ]
        },
        {
          "output_type": "execute_result",
          "data": {
            "text/plain": [
              "<keras.callbacks.History at 0x7f7b1f335c30>"
            ]
          },
          "metadata": {},
          "execution_count": 48
        }
      ]
    },
    {
      "cell_type": "code",
      "source": [
        "y_pred_ds_under = model.predict([X_full_text, X_num_full])"
      ],
      "metadata": {
        "id": "5MBX-mDPAjEI",
        "colab": {
          "base_uri": "https://localhost:8080/"
        },
        "outputId": "9c3e3a80-4f2f-4916-e5d2-da034e0ddf04"
      },
      "execution_count": null,
      "outputs": [
        {
          "output_type": "stream",
          "name": "stdout",
          "text": [
            "299/299 [==============================] - 3s 8ms/step\n"
          ]
        }
      ]
    },
    {
      "cell_type": "code",
      "source": [
        "y_pred_ds_under = y_pred_ds_under.flatten()\n",
        "check_ds_under = np.where(y_pred_ds_under > 0.5, 1, 0)"
      ],
      "metadata": {
        "id": "ne0EAGauAoY_"
      },
      "execution_count": null,
      "outputs": []
    },
    {
      "cell_type": "code",
      "source": [
        "accuracy_score(check_ds_under, y_full_ds)"
      ],
      "metadata": {
        "id": "lbKV-5_VAtkg",
        "colab": {
          "base_uri": "https://localhost:8080/"
        },
        "outputId": "f6b16a1e-f696-49a4-fb90-6fe47143ffa2"
      },
      "execution_count": null,
      "outputs": [
        {
          "output_type": "execute_result",
          "data": {
            "text/plain": [
              "0.9188454298263962"
            ]
          },
          "metadata": {},
          "execution_count": 51
        }
      ]
    },
    {
      "cell_type": "code",
      "source": [
        "f1_score(check_ds_under, y_full_ds)"
      ],
      "metadata": {
        "id": "XgfMW3NaAv7b",
        "colab": {
          "base_uri": "https://localhost:8080/"
        },
        "outputId": "57ed7324-151e-41d9-ba94-92da10d0d425"
      },
      "execution_count": null,
      "outputs": [
        {
          "output_type": "execute_result",
          "data": {
            "text/plain": [
              "0.22244488977955915"
            ]
          },
          "metadata": {},
          "execution_count": 52
        }
      ]
    },
    {
      "cell_type": "code",
      "source": [
        "print(precision_score(check_ds_under, y_full_ds))\n",
        "print(recall_score(check_ds_under, y_full_ds))"
      ],
      "metadata": {
        "id": "hyx47kZKf64P",
        "colab": {
          "base_uri": "https://localhost:8080/"
        },
        "outputId": "8fa6f257-8456-41b6-f6df-ce964428bbf9"
      },
      "execution_count": null,
      "outputs": [
        {
          "output_type": "stream",
          "name": "stdout",
          "text": [
            "1.0\n",
            "0.12514092446448705\n"
          ]
        }
      ]
    },
    {
      "cell_type": "markdown",
      "source": [
        "## Oversampling"
      ],
      "metadata": {
        "id": "ULaxetZ_A3b3"
      }
    },
    {
      "cell_type": "code",
      "source": [
        "X_vectorized = np.concatenate((X_train_text, X_train.drop(['text'], axis=1).values), axis=1)"
      ],
      "metadata": {
        "id": "awhX3CZqA7Wh"
      },
      "execution_count": null,
      "outputs": []
    },
    {
      "cell_type": "code",
      "source": [
        "X_vectorized.shape"
      ],
      "metadata": {
        "id": "f_7DCH7qGnFC",
        "colab": {
          "base_uri": "https://localhost:8080/"
        },
        "outputId": "4cffa463-8d00-4db3-dead-628aa82df831"
      },
      "execution_count": null,
      "outputs": [
        {
          "output_type": "execute_result",
          "data": {
            "text/plain": [
              "(7171, 271)"
            ]
          },
          "metadata": {},
          "execution_count": 55
        }
      ]
    },
    {
      "cell_type": "code",
      "source": [
        "sm = SMOTE(random_state=42)\n",
        "X_da_oversampling, y_da_oversampling = sm.fit_resample(X_vectorized, y_da_train)\n",
        "X_ds_oversampling, y_ds_oversampling = sm.fit_resample(X_vectorized, y_ds_train)"
      ],
      "metadata": {
        "id": "XKm5RK98Hut1"
      },
      "execution_count": null,
      "outputs": []
    },
    {
      "cell_type": "code",
      "source": [
        "X_da_over_text = np.array([ele[:-21] for ele in X_da_oversampling])\n",
        "X_ds_over_text = np.array([ele[:-21] for ele in X_ds_oversampling])\n",
        "\n",
        "X_da_over_num = np.array([ele[250:] for ele in X_da_oversampling])\n",
        "X_ds_over_num = np.array([ele[250:] for ele in X_ds_oversampling])"
      ],
      "metadata": {
        "id": "ecW2xURUHtuq"
      },
      "execution_count": null,
      "outputs": []
    },
    {
      "cell_type": "code",
      "source": [
        "model.fit([X_da_over_text, X_da_over_num], y_da_oversampling, epochs=10)"
      ],
      "metadata": {
        "id": "-jfAgPznJFkd",
        "colab": {
          "base_uri": "https://localhost:8080/"
        },
        "outputId": "c1b23798-183b-4732-b8e9-cdad5a547805"
      },
      "execution_count": null,
      "outputs": [
        {
          "output_type": "stream",
          "name": "stdout",
          "text": [
            "Epoch 1/10\n",
            "417/417 [==============================] - 18s 39ms/step - loss: 0.3631 - accuracy: 0.8489 - precision: 0.8542 - recall: 0.8414\n",
            "Epoch 2/10\n",
            "417/417 [==============================] - 15s 37ms/step - loss: 0.1332 - accuracy: 0.9516 - precision: 0.9439 - recall: 0.9604\n",
            "Epoch 3/10\n",
            "417/417 [==============================] - 12s 29ms/step - loss: 0.0419 - accuracy: 0.9879 - precision: 0.9855 - recall: 0.9904\n",
            "Epoch 4/10\n",
            "417/417 [==============================] - 13s 31ms/step - loss: 0.0144 - accuracy: 0.9961 - precision: 0.9952 - recall: 0.9970\n",
            "Epoch 5/10\n",
            "417/417 [==============================] - 13s 31ms/step - loss: 0.0069 - accuracy: 0.9990 - precision: 0.9991 - recall: 0.9988\n",
            "Epoch 6/10\n",
            "417/417 [==============================] - 11s 27ms/step - loss: 0.0021 - accuracy: 0.9999 - precision: 0.9999 - recall: 0.9999\n",
            "Epoch 7/10\n",
            "417/417 [==============================] - 12s 28ms/step - loss: 3.2929e-04 - accuracy: 1.0000 - precision: 1.0000 - recall: 1.0000\n",
            "Epoch 8/10\n",
            "417/417 [==============================] - 17s 41ms/step - loss: 3.7561e-04 - accuracy: 0.9999 - precision: 1.0000 - recall: 0.9999\n",
            "Epoch 9/10\n",
            "417/417 [==============================] - 11s 28ms/step - loss: 3.8746e-04 - accuracy: 0.9999 - precision: 0.9999 - recall: 1.0000\n",
            "Epoch 10/10\n",
            "417/417 [==============================] - 10s 24ms/step - loss: 1.0893e-04 - accuracy: 1.0000 - precision: 1.0000 - recall: 1.0000\n"
          ]
        },
        {
          "output_type": "execute_result",
          "data": {
            "text/plain": [
              "<keras.callbacks.History at 0x7f7b1f3cd3c0>"
            ]
          },
          "metadata": {},
          "execution_count": 58
        }
      ]
    },
    {
      "cell_type": "code",
      "source": [
        "y_pred_da_over = model.predict([X_test_text, X_num_test])\n",
        "y_pred_da_over = y_pred_da_over.flatten()\n",
        "check_da_over = np.where(y_pred_da_over > 0.5, 1, 0)"
      ],
      "metadata": {
        "id": "gkZ8L2zjJX7s",
        "colab": {
          "base_uri": "https://localhost:8080/"
        },
        "outputId": "280ecd79-8ec8-4f0a-a18b-1e6cb9141412"
      },
      "execution_count": null,
      "outputs": [
        {
          "output_type": "stream",
          "name": "stdout",
          "text": [
            "75/75 [==============================] - 1s 10ms/step\n"
          ]
        }
      ]
    },
    {
      "cell_type": "code",
      "source": [
        "check_da_over"
      ],
      "metadata": {
        "id": "MIBNcIrOKhPp",
        "colab": {
          "base_uri": "https://localhost:8080/"
        },
        "outputId": "0dbb579c-7d98-4300-a283-b029abe7d7fa"
      },
      "execution_count": null,
      "outputs": [
        {
          "output_type": "execute_result",
          "data": {
            "text/plain": [
              "array([0, 0, 0, ..., 0, 0, 0])"
            ]
          },
          "metadata": {},
          "execution_count": 60
        }
      ]
    },
    {
      "cell_type": "code",
      "source": [
        "accuracy_score(check_da_over, y_da_test)"
      ],
      "metadata": {
        "id": "8xw8hcyRJuLz",
        "colab": {
          "base_uri": "https://localhost:8080/"
        },
        "outputId": "9d14f1ba-0d2e-463b-d2f3-129d7528eaba"
      },
      "execution_count": null,
      "outputs": [
        {
          "output_type": "execute_result",
          "data": {
            "text/plain": [
              "0.8578000836470097"
            ]
          },
          "metadata": {},
          "execution_count": 61
        }
      ]
    },
    {
      "cell_type": "code",
      "source": [
        "f1_score(check_da_over, y_da_test)"
      ],
      "metadata": {
        "id": "jhjR_8slJv0N",
        "colab": {
          "base_uri": "https://localhost:8080/"
        },
        "outputId": "8225d8ed-9543-453e-c174-2b1d26d828b2"
      },
      "execution_count": null,
      "outputs": [
        {
          "output_type": "execute_result",
          "data": {
            "text/plain": [
              "0.43521594684385384"
            ]
          },
          "metadata": {},
          "execution_count": 62
        }
      ]
    },
    {
      "cell_type": "code",
      "source": [
        "print(precision_score(check_da_over, y_da_test))\n",
        "print(recall_score(check_da_over, y_da_test))"
      ],
      "metadata": {
        "id": "hPgduZ-2gFQ7",
        "colab": {
          "base_uri": "https://localhost:8080/"
        },
        "outputId": "a481ee65-d8dd-484d-a9ae-0ccc5a3500dd"
      },
      "execution_count": null,
      "outputs": [
        {
          "output_type": "stream",
          "name": "stdout",
          "text": [
            "0.7043010752688172\n",
            "0.31490384615384615\n"
          ]
        }
      ]
    },
    {
      "cell_type": "code",
      "source": [
        "model.fit([X_ds_over_text, X_ds_over_num], y_ds_oversampling, epochs=10)"
      ],
      "metadata": {
        "id": "qlP7W6Q9Kdjx",
        "colab": {
          "base_uri": "https://localhost:8080/"
        },
        "outputId": "9a5c236e-2e12-40aa-83a7-43adb4b34d2f"
      },
      "execution_count": null,
      "outputs": [
        {
          "output_type": "stream",
          "name": "stdout",
          "text": [
            "Epoch 1/10\n",
            "444/444 [==============================] - 18s 36ms/step - loss: 0.0789 - accuracy: 0.9740 - precision: 0.9734 - recall: 0.9746\n",
            "Epoch 2/10\n",
            "444/444 [==============================] - 15s 34ms/step - loss: 0.0114 - accuracy: 0.9959 - precision: 0.9976 - recall: 0.9942\n",
            "Epoch 3/10\n",
            "444/444 [==============================] - 13s 30ms/step - loss: 0.0031 - accuracy: 0.9991 - precision: 0.9993 - recall: 0.9989\n",
            "Epoch 4/10\n",
            "444/444 [==============================] - 14s 31ms/step - loss: 8.9565e-04 - accuracy: 0.9998 - precision: 1.0000 - recall: 0.9996\n",
            "Epoch 5/10\n",
            "444/444 [==============================] - 14s 31ms/step - loss: 3.9767e-04 - accuracy: 0.9999 - precision: 0.9999 - recall: 0.9999\n",
            "Epoch 6/10\n",
            "444/444 [==============================] - 13s 29ms/step - loss: 1.7953e-04 - accuracy: 0.9999 - precision: 0.9999 - recall: 1.0000\n",
            "Epoch 7/10\n",
            "444/444 [==============================] - 13s 28ms/step - loss: 1.3324e-04 - accuracy: 0.9999 - precision: 1.0000 - recall: 0.9999\n",
            "Epoch 8/10\n",
            "444/444 [==============================] - 12s 28ms/step - loss: 2.2357e-04 - accuracy: 0.9999 - precision: 0.9999 - recall: 1.0000\n",
            "Epoch 9/10\n",
            "444/444 [==============================] - 13s 29ms/step - loss: 1.5480e-04 - accuracy: 0.9999 - precision: 1.0000 - recall: 0.9999\n",
            "Epoch 10/10\n",
            "444/444 [==============================] - 11s 24ms/step - loss: 2.3124e-04 - accuracy: 0.9999 - precision: 0.9999 - recall: 1.0000\n"
          ]
        },
        {
          "output_type": "execute_result",
          "data": {
            "text/plain": [
              "<keras.callbacks.History at 0x7f7b1f3cee90>"
            ]
          },
          "metadata": {},
          "execution_count": 64
        }
      ]
    },
    {
      "cell_type": "code",
      "source": [
        "y_pred_ds_over = model.predict([X_test_text, X_num_test])\n",
        "y_pred_ds_over = y_pred_ds_over.flatten()\n",
        "check_ds_over = np.where(y_pred_ds_over > 0.5, 1, 0)"
      ],
      "metadata": {
        "id": "oVWHzP4SKxag",
        "colab": {
          "base_uri": "https://localhost:8080/"
        },
        "outputId": "3cb68cda-5763-4a41-aea6-1cdc676c2206"
      },
      "execution_count": null,
      "outputs": [
        {
          "output_type": "stream",
          "name": "stdout",
          "text": [
            "75/75 [==============================] - 1s 8ms/step\n"
          ]
        }
      ]
    },
    {
      "cell_type": "code",
      "source": [
        "accuracy_score(check_ds_over, y_ds_test)"
      ],
      "metadata": {
        "id": "ZzFIgAVzK3BP",
        "colab": {
          "base_uri": "https://localhost:8080/"
        },
        "outputId": "fa922a46-f1c4-43fd-8d1b-6a778faaecfb"
      },
      "execution_count": null,
      "outputs": [
        {
          "output_type": "execute_result",
          "data": {
            "text/plain": [
              "0.9167712254286909"
            ]
          },
          "metadata": {},
          "execution_count": 66
        }
      ]
    },
    {
      "cell_type": "code",
      "source": [
        "f1_score(check_ds_over, y_ds_test)"
      ],
      "metadata": {
        "id": "5iyIzo-gK7Z9",
        "colab": {
          "base_uri": "https://localhost:8080/"
        },
        "outputId": "9b2db838-eaa3-4f2a-f6de-99305ab26ce3"
      },
      "execution_count": null,
      "outputs": [
        {
          "output_type": "execute_result",
          "data": {
            "text/plain": [
              "0.11555555555555556"
            ]
          },
          "metadata": {},
          "execution_count": 67
        }
      ]
    },
    {
      "cell_type": "code",
      "source": [
        "print(precision_score(check_ds_over, y_ds_test))\n",
        "print(recall_score(check_ds_over, y_ds_test))"
      ],
      "metadata": {
        "id": "PAEiM6rigLmI",
        "colab": {
          "base_uri": "https://localhost:8080/"
        },
        "outputId": "5ef61a04-f44c-433a-ea9e-d7af2393c9e1"
      },
      "execution_count": null,
      "outputs": [
        {
          "output_type": "stream",
          "name": "stdout",
          "text": [
            "0.4482758620689655\n",
            "0.0663265306122449\n"
          ]
        }
      ]
    }
  ]
}
{
 "cells": [
  {
   "cell_type": "code",
   "execution_count": 1,
   "metadata": {},
   "outputs": [],
   "source": [
    "import numpy as np\n",
    "import pandas as pd\n",
    "import nltk\n",
    "from nltk.corpus import stopwords\n",
    "import re\n",
    "import string\n",
    "from nltk.stem.snowball import SnowballStemmer\n",
    "from sklearn.feature_extraction.text import TfidfVectorizer"
   ]
  },
  {
   "cell_type": "code",
   "execution_count": 2,
   "metadata": {},
   "outputs": [],
   "source": [
    "data_analytic_description = ''\n",
    "with open('job_descriptions/job_desc_data_analyst.txt') as f:\n",
    "    data_analytic_description = f.read()"
   ]
  },
  {
   "cell_type": "code",
   "execution_count": 3,
   "metadata": {},
   "outputs": [],
   "source": [
    "data_science_description = ''\n",
    "with open('job_descriptions/job_desc_data_scientist.txt') as f:\n",
    "    data_science_description = f.read()"
   ]
  },
  {
   "cell_type": "code",
   "execution_count": 4,
   "metadata": {},
   "outputs": [],
   "source": [
    "from sklearn.metrics.pairwise import cosine_similarity"
   ]
  },
  {
   "cell_type": "code",
   "execution_count": 5,
   "metadata": {},
   "outputs": [],
   "source": [
    "def stemmer(text):\n",
    "    stemmer = SnowballStemmer(language='russian')\n",
    "    tokenizer = nltk.tokenize.WhitespaceTokenizer()\n",
    "\n",
    "    tokens = [stemmer.stem(w) for w in tokenizer.tokenize(text)]\n",
    "\n",
    "    return ' '.join(tokens)"
   ]
  },
  {
   "cell_type": "code",
   "execution_count": 6,
   "metadata": {},
   "outputs": [],
   "source": [
    "def clean_text(text):\n",
    "\n",
    "    text = text.lower() \n",
    "\n",
    "    text = re.sub(r'\\n', '', text)\n",
    "\n",
    "    translator = str.maketrans('', '', string.punctuation)\n",
    "    text = text.translate(translator)\n",
    "\n",
    "    text = text.split()\n",
    "    useless_words = stopwords.words(\"english\") + stopwords.words(\"russian\") + ['добрый', 'день', 'hi', 'также']\n",
    "\n",
    "    text_filtered = [word for word in text if not word in useless_words]\n",
    "\n",
    "    final_string = ' '.join(text_filtered)\n",
    "\n",
    "    return final_string"
   ]
  },
  {
   "cell_type": "code",
   "execution_count": 7,
   "metadata": {},
   "outputs": [],
   "source": [
    "def cosine_similarity_score(df, column_name, contents, new_column_name):\n",
    "    df_desc = pd.DataFrame()\n",
    "    df_desc[column_name] = df[column_name].values.astype('str')\n",
    "    contents = clean_text(contents)\n",
    "    contents = stemmer(contents)\n",
    "    df_desc = df_desc.append({column_name: contents}, ignore_index=True)\n",
    "    df_desc = df_desc.fillna(' ')\n",
    "\n",
    "    descriptions = df_desc[column_name].values\n",
    "    \n",
    "    vectorizer = TfidfVectorizer()\n",
    "    X = vectorizer.fit_transform(descriptions)\n",
    "\n",
    "    co_sim = cosine_similarity(X, X)\n",
    "\n",
    "    df[new_column_name] = co_sim[-1][:-1]\n",
    "    \n",
    "    return df"
   ]
  },
  {
   "cell_type": "code",
   "execution_count": 8,
   "metadata": {},
   "outputs": [],
   "source": [
    "data = pd.read_csv('data_preprocessed.csv')"
   ]
  },
  {
   "cell_type": "code",
   "execution_count": 9,
   "metadata": {},
   "outputs": [
    {
     "name": "stderr",
     "output_type": "stream",
     "text": [
      "/var/folders/yg/3fjz6jqs2d11ktgmq_1w7vfm0000gn/T/ipykernel_20882/2928142847.py:6: FutureWarning: The frame.append method is deprecated and will be removed from pandas in a future version. Use pandas.concat instead.\n",
      "  df_desc = df_desc.append({column_name: contents}, ignore_index=True)\n",
      "/var/folders/yg/3fjz6jqs2d11ktgmq_1w7vfm0000gn/T/ipykernel_20882/2928142847.py:6: FutureWarning: The frame.append method is deprecated and will be removed from pandas in a future version. Use pandas.concat instead.\n",
      "  df_desc = df_desc.append({column_name: contents}, ignore_index=True)\n",
      "/var/folders/yg/3fjz6jqs2d11ktgmq_1w7vfm0000gn/T/ipykernel_20882/2928142847.py:6: FutureWarning: The frame.append method is deprecated and will be removed from pandas in a future version. Use pandas.concat instead.\n",
      "  df_desc = df_desc.append({column_name: contents}, ignore_index=True)\n"
     ]
    }
   ],
   "source": [
    "data = cosine_similarity_score(data, 'LastWorkDesc', data_analytic_description, 'Cosine_DA_LastWorkDesc')\n",
    "data = cosine_similarity_score(data, 'LastWorkDesc2', data_analytic_description, 'Cosine_DA_LastWorkDesc2')\n",
    "data = cosine_similarity_score(data, 'Description', data_analytic_description, 'Cosine_DA_Description')"
   ]
  },
  {
   "cell_type": "code",
   "execution_count": 10,
   "metadata": {},
   "outputs": [
    {
     "name": "stderr",
     "output_type": "stream",
     "text": [
      "/var/folders/yg/3fjz6jqs2d11ktgmq_1w7vfm0000gn/T/ipykernel_20882/2928142847.py:6: FutureWarning: The frame.append method is deprecated and will be removed from pandas in a future version. Use pandas.concat instead.\n",
      "  df_desc = df_desc.append({column_name: contents}, ignore_index=True)\n",
      "/var/folders/yg/3fjz6jqs2d11ktgmq_1w7vfm0000gn/T/ipykernel_20882/2928142847.py:6: FutureWarning: The frame.append method is deprecated and will be removed from pandas in a future version. Use pandas.concat instead.\n",
      "  df_desc = df_desc.append({column_name: contents}, ignore_index=True)\n",
      "/var/folders/yg/3fjz6jqs2d11ktgmq_1w7vfm0000gn/T/ipykernel_20882/2928142847.py:6: FutureWarning: The frame.append method is deprecated and will be removed from pandas in a future version. Use pandas.concat instead.\n",
      "  df_desc = df_desc.append({column_name: contents}, ignore_index=True)\n"
     ]
    }
   ],
   "source": [
    "data = cosine_similarity_score(data, 'LastWorkDesc', data_science_description, 'Cosine_DS_LastWorkDesc')\n",
    "data = cosine_similarity_score(data, 'LastWorkDesc2', data_science_description, 'Cosine_DS_LastWorkDesc2')\n",
    "data = cosine_similarity_score(data, 'Description', data_science_description, 'Cosine_DS_Description')"
   ]
  },
  {
   "cell_type": "code",
   "execution_count": 11,
   "metadata": {},
   "outputs": [],
   "source": [
    "data = data.drop(['LastWorkDesc', 'LastWorkDesc2', 'Description'], axis=1)"
   ]
  },
  {
   "cell_type": "code",
   "execution_count": 12,
   "metadata": {},
   "outputs": [
    {
     "data": {
      "text/html": [
       "<div>\n",
       "<style scoped>\n",
       "    .dataframe tbody tr th:only-of-type {\n",
       "        vertical-align: middle;\n",
       "    }\n",
       "\n",
       "    .dataframe tbody tr th {\n",
       "        vertical-align: top;\n",
       "    }\n",
       "\n",
       "    .dataframe thead th {\n",
       "        text-align: right;\n",
       "    }\n",
       "</style>\n",
       "<table border=\"1\" class=\"dataframe\">\n",
       "  <thead>\n",
       "    <tr style=\"text-align: right;\">\n",
       "      <th></th>\n",
       "      <th>ExpPeriod</th>\n",
       "      <th>Salary</th>\n",
       "      <th>Age</th>\n",
       "      <th>Gender</th>\n",
       "      <th>WorkType</th>\n",
       "      <th>WorkSchedule</th>\n",
       "      <th>N_places</th>\n",
       "      <th>Top 10 work</th>\n",
       "      <th>N_changeWork</th>\n",
       "      <th>N_Langs</th>\n",
       "      <th>...</th>\n",
       "      <th>Top 10 Uni</th>\n",
       "      <th>URL</th>\n",
       "      <th>top_city</th>\n",
       "      <th>EduLevelCat</th>\n",
       "      <th>Cosine_DA_LastWorkDesc</th>\n",
       "      <th>Cosine_DA_LastWorkDesc2</th>\n",
       "      <th>Cosine_DA_Description</th>\n",
       "      <th>Cosine_DS_LastWorkDesc</th>\n",
       "      <th>Cosine_DS_LastWorkDesc2</th>\n",
       "      <th>Cosine_DS_Description</th>\n",
       "    </tr>\n",
       "  </thead>\n",
       "  <tbody>\n",
       "    <tr>\n",
       "      <th>0</th>\n",
       "      <td>-1.018449</td>\n",
       "      <td>-0.032825</td>\n",
       "      <td>-0.997974</td>\n",
       "      <td>2.0</td>\n",
       "      <td>1.0</td>\n",
       "      <td>0.0</td>\n",
       "      <td>-0.643175</td>\n",
       "      <td>0.0</td>\n",
       "      <td>-0.228412</td>\n",
       "      <td>-0.290421</td>\n",
       "      <td>...</td>\n",
       "      <td>1.0</td>\n",
       "      <td>https://hh.ru/resume/c107054800051cb16b0039ed1...</td>\n",
       "      <td>1.0</td>\n",
       "      <td>1.0</td>\n",
       "      <td>0.026102</td>\n",
       "      <td>0.082078</td>\n",
       "      <td>0.030898</td>\n",
       "      <td>0.030294</td>\n",
       "      <td>0.062736</td>\n",
       "      <td>0.065384</td>\n",
       "    </tr>\n",
       "    <tr>\n",
       "      <th>1</th>\n",
       "      <td>-0.514290</td>\n",
       "      <td>-0.032825</td>\n",
       "      <td>-0.483565</td>\n",
       "      <td>2.0</td>\n",
       "      <td>1.0</td>\n",
       "      <td>0.0</td>\n",
       "      <td>0.350588</td>\n",
       "      <td>0.0</td>\n",
       "      <td>-0.228412</td>\n",
       "      <td>2.157769</td>\n",
       "      <td>...</td>\n",
       "      <td>0.0</td>\n",
       "      <td>https://hh.ru/resume/bebf6a630008069d8c0039ed1...</td>\n",
       "      <td>1.0</td>\n",
       "      <td>1.0</td>\n",
       "      <td>0.037750</td>\n",
       "      <td>0.050829</td>\n",
       "      <td>0.131274</td>\n",
       "      <td>0.031396</td>\n",
       "      <td>0.042304</td>\n",
       "      <td>0.105672</td>\n",
       "    </tr>\n",
       "    <tr>\n",
       "      <th>2</th>\n",
       "      <td>-1.344670</td>\n",
       "      <td>-0.032825</td>\n",
       "      <td>0.324791</td>\n",
       "      <td>3.0</td>\n",
       "      <td>1.0</td>\n",
       "      <td>0.0</td>\n",
       "      <td>-0.974429</td>\n",
       "      <td>0.0</td>\n",
       "      <td>-0.228412</td>\n",
       "      <td>-0.290421</td>\n",
       "      <td>...</td>\n",
       "      <td>0.0</td>\n",
       "      <td>https://hh.ru/resume/8c6333c200090aa8b60039ed1...</td>\n",
       "      <td>1.0</td>\n",
       "      <td>1.0</td>\n",
       "      <td>0.098630</td>\n",
       "      <td>0.145485</td>\n",
       "      <td>0.133424</td>\n",
       "      <td>0.062048</td>\n",
       "      <td>0.090375</td>\n",
       "      <td>0.151029</td>\n",
       "    </tr>\n",
       "    <tr>\n",
       "      <th>3</th>\n",
       "      <td>-0.099101</td>\n",
       "      <td>-0.032825</td>\n",
       "      <td>-0.189618</td>\n",
       "      <td>2.0</td>\n",
       "      <td>1.0</td>\n",
       "      <td>0.0</td>\n",
       "      <td>1.013097</td>\n",
       "      <td>0.0</td>\n",
       "      <td>-0.228412</td>\n",
       "      <td>0.933674</td>\n",
       "      <td>...</td>\n",
       "      <td>0.0</td>\n",
       "      <td>https://hh.ru/resume/993bd0980002dd6cff0039ed1...</td>\n",
       "      <td>1.0</td>\n",
       "      <td>1.0</td>\n",
       "      <td>0.039134</td>\n",
       "      <td>0.061517</td>\n",
       "      <td>0.036506</td>\n",
       "      <td>0.044509</td>\n",
       "      <td>0.067402</td>\n",
       "      <td>0.037339</td>\n",
       "    </tr>\n",
       "    <tr>\n",
       "      <th>4</th>\n",
       "      <td>-1.186502</td>\n",
       "      <td>-0.032825</td>\n",
       "      <td>-1.071461</td>\n",
       "      <td>3.0</td>\n",
       "      <td>1.0</td>\n",
       "      <td>0.0</td>\n",
       "      <td>-0.643175</td>\n",
       "      <td>1.0</td>\n",
       "      <td>3.064879</td>\n",
       "      <td>-0.290421</td>\n",
       "      <td>...</td>\n",
       "      <td>1.0</td>\n",
       "      <td>https://hh.ru/resume/628596ac000657935b0039ed1...</td>\n",
       "      <td>1.0</td>\n",
       "      <td>1.0</td>\n",
       "      <td>0.037656</td>\n",
       "      <td>0.066113</td>\n",
       "      <td>0.079162</td>\n",
       "      <td>0.054239</td>\n",
       "      <td>0.074761</td>\n",
       "      <td>0.104707</td>\n",
       "    </tr>\n",
       "  </tbody>\n",
       "</table>\n",
       "<p>5 rows × 28 columns</p>\n",
       "</div>"
      ],
      "text/plain": [
       "   ExpPeriod    Salary       Age   Gender  WorkType  WorkSchedule  N_places  \\\n",
       "0  -1.018449 -0.032825 -0.997974      2.0       1.0           0.0 -0.643175   \n",
       "1  -0.514290 -0.032825 -0.483565      2.0       1.0           0.0  0.350588   \n",
       "2  -1.344670 -0.032825  0.324791      3.0       1.0           0.0 -0.974429   \n",
       "3  -0.099101 -0.032825 -0.189618      2.0       1.0           0.0  1.013097   \n",
       "4  -1.186502 -0.032825 -1.071461      3.0       1.0           0.0 -0.643175   \n",
       "\n",
       "   Top 10 work  N_changeWork   N_Langs  ...  Top 10 Uni  \\\n",
       "0          0.0     -0.228412 -0.290421  ...         1.0   \n",
       "1          0.0     -0.228412  2.157769  ...         0.0   \n",
       "2          0.0     -0.228412 -0.290421  ...         0.0   \n",
       "3          0.0     -0.228412  0.933674  ...         0.0   \n",
       "4          1.0      3.064879 -0.290421  ...         1.0   \n",
       "\n",
       "                                                 URL  top_city  EduLevelCat  \\\n",
       "0  https://hh.ru/resume/c107054800051cb16b0039ed1...       1.0          1.0   \n",
       "1  https://hh.ru/resume/bebf6a630008069d8c0039ed1...       1.0          1.0   \n",
       "2  https://hh.ru/resume/8c6333c200090aa8b60039ed1...       1.0          1.0   \n",
       "3  https://hh.ru/resume/993bd0980002dd6cff0039ed1...       1.0          1.0   \n",
       "4  https://hh.ru/resume/628596ac000657935b0039ed1...       1.0          1.0   \n",
       "\n",
       "   Cosine_DA_LastWorkDesc  Cosine_DA_LastWorkDesc2  Cosine_DA_Description  \\\n",
       "0                0.026102                 0.082078               0.030898   \n",
       "1                0.037750                 0.050829               0.131274   \n",
       "2                0.098630                 0.145485               0.133424   \n",
       "3                0.039134                 0.061517               0.036506   \n",
       "4                0.037656                 0.066113               0.079162   \n",
       "\n",
       "   Cosine_DS_LastWorkDesc  Cosine_DS_LastWorkDesc2 Cosine_DS_Description  \n",
       "0                0.030294                 0.062736              0.065384  \n",
       "1                0.031396                 0.042304              0.105672  \n",
       "2                0.062048                 0.090375              0.151029  \n",
       "3                0.044509                 0.067402              0.037339  \n",
       "4                0.054239                 0.074761              0.104707  \n",
       "\n",
       "[5 rows x 28 columns]"
      ]
     },
     "execution_count": 12,
     "metadata": {},
     "output_type": "execute_result"
    }
   ],
   "source": [
    "data.head()"
   ]
  },
  {
   "cell_type": "code",
   "execution_count": 13,
   "metadata": {},
   "outputs": [],
   "source": [
    "data.to_csv('cosine_similarity_df.csv', index=False)"
   ]
  }
 ],
 "metadata": {
  "kernelspec": {
   "display_name": "Python 3.10.9 64-bit",
   "language": "python",
   "name": "python3"
  },
  "language_info": {
   "codemirror_mode": {
    "name": "ipython",
    "version": 3
   },
   "file_extension": ".py",
   "mimetype": "text/x-python",
   "name": "python",
   "nbconvert_exporter": "python",
   "pygments_lexer": "ipython3",
   "version": "3.10.9"
  },
  "orig_nbformat": 4,
  "vscode": {
   "interpreter": {
    "hash": "b0fa6594d8f4cbf19f97940f81e996739fb7646882a419484c72d19e05852a7e"
   }
  }
 },
 "nbformat": 4,
 "nbformat_minor": 2
}

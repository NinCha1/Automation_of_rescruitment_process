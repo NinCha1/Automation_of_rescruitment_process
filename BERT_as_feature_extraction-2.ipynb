{
  "cells": [
    {
      "cell_type": "markdown",
      "metadata": {
        "id": "jloMUz5m9Ulw"
      },
      "source": [
        "# Loading packages and libraries"
      ]
    },
    {
      "cell_type": "code",
      "execution_count": null,
      "metadata": {
        "id": "__10uLuy9p1g"
      },
      "outputs": [],
      "source": [
        "%pip install tensorflow_text"
      ]
    },
    {
      "cell_type": "code",
      "execution_count": null,
      "metadata": {
        "id": "P1BuU0VP9r6g"
      },
      "outputs": [],
      "source": [
        "%pip install tensorflow_addons"
      ]
    },
    {
      "cell_type": "code",
      "execution_count": null,
      "metadata": {
        "id": "iDoRKyYUyM4q"
      },
      "outputs": [],
      "source": [
        "import tensorflow as tf\n",
        "import tensorflow_hub as hub\n",
        "import tensorflow_text as text\n",
        "import pandas as pd\n",
        "import tensorflow_addons as tfa\n",
        "import numpy as np\n",
        "from sklearn.model_selection import train_test_split\n",
        "from sklearn.metrics import accuracy_score, f1_score, recall_score, precision_score"
      ]
    },
    {
      "cell_type": "code",
      "source": [
        "gpus = tf.config.list_physical_devices('GPU')\n",
        "if gpus:\n",
        "  # Restrict TensorFlow to only use the first GPU\n",
        "  try:\n",
        "    tf.config.set_visible_devices(gpus[0], 'GPU')\n",
        "    logical_gpus = tf.config.list_logical_devices('GPU')\n",
        "    print(len(gpus), \"Physical GPUs,\", len(logical_gpus), \"Logical GPU\")\n",
        "  except RuntimeError as e:\n",
        "    # Visible devices must be set before GPUs have been initialized\n",
        "    print(e)"
      ],
      "metadata": {
        "id": "wrNqV9sAWvgJ",
        "colab": {
          "base_uri": "https://localhost:8080/"
        },
        "outputId": "b7f45649-bb6b-41db-d3c8-d68271ef6b60"
      },
      "execution_count": null,
      "outputs": [
        {
          "output_type": "stream",
          "name": "stdout",
          "text": [
            "1 Physical GPUs, 1 Logical GPU\n"
          ]
        }
      ]
    },
    {
      "cell_type": "code",
      "source": [
        "tf.device('/device:GPU:2')"
      ],
      "metadata": {
        "id": "A4cVNgOUWxFZ",
        "colab": {
          "base_uri": "https://localhost:8080/"
        },
        "outputId": "84a5a955-60f9-40e2-ed50-f391ab7c91f6"
      },
      "execution_count": null,
      "outputs": [
        {
          "output_type": "execute_result",
          "data": {
            "text/plain": [
              "<tensorflow.python.eager.context._EagerDeviceContext at 0x7f2560240e00>"
            ]
          },
          "metadata": {},
          "execution_count": 77
        }
      ]
    },
    {
      "cell_type": "code",
      "execution_count": null,
      "metadata": {
        "id": "sOMKYXaeyMDp"
      },
      "outputs": [],
      "source": [
        "data_df = pd.read_csv('label_raw.csv')"
      ]
    },
    {
      "cell_type": "code",
      "execution_count": null,
      "metadata": {
        "colab": {
          "base_uri": "https://localhost:8080/",
          "height": 629
        },
        "id": "8IrVwBo1zStP",
        "outputId": "ad314a76-33b2-41c5-c077-169c372e8303"
      },
      "outputs": [
        {
          "output_type": "execute_result",
          "data": {
            "text/plain": [
              "                                               Title  IsEnglish  \\\n",
              "0                                        BI аналитик        0.0   \n",
              "1                            Программист-разработчик        0.0   \n",
              "2  Ведущий аналитик, BI-аналитик, Аналитик данных...        0.0   \n",
              "3                                     Разработчик BI        0.0   \n",
              "4                                           Аналитик        0.0   \n",
              "\n",
              "                                             SpecCat  ExpPeriod    Salary  \\\n",
              "0  Продуктовый аналитик\\nМаркетолог-аналитик\\nАна...       32.0       NaN   \n",
              "1                         Программист, разработчик\\n       15.0       NaN   \n",
              "2  Программист, разработчик\\nBI-аналитик, аналити...       78.0       NaN   \n",
              "3                         Программист, разработчик\\n      100.0  170000.0   \n",
              "4                                         Аналитик\\n       30.0  160000.0   \n",
              "\n",
              "    Age   Gender    City  WorkType  WorkSchedule  ...  \\\n",
              "0  25.0      0.0  Москва       1.0           0.0  ...   \n",
              "1  21.0      0.0  Москва       1.0           0.0  ...   \n",
              "2  38.0      0.0   Пенза       1.0           0.0  ...   \n",
              "3  29.0      1.0  Москва       1.0           0.0  ...   \n",
              "4  24.0      0.0  Москва       1.0           0.0  ...   \n",
              "\n",
              "                        EduLevel N_Unis  \\\n",
              "0   Высшее образование (Магистр)    5.0   \n",
              "1  Высшее образование (Бакалавр)    1.0   \n",
              "2             Высшее образование    1.0   \n",
              "3   Высшее образование (Магистр)    2.0   \n",
              "4   Высшее образование (Магистр)    3.0   \n",
              "\n",
              "                                             LastUni  \\\n",
              "0  Московский гуманитарно-экономический институт,...   \n",
              "1  Челябинский государственный университет, Челяб...   \n",
              "2             Пензенский Государственный Университет   \n",
              "3         Warsaw School of Economics (Master Degree)   \n",
              "4  Гжельский государственный художественно-промыш...   \n",
              "\n",
              "                                            LastUni2 Top 10 Uni  \\\n",
              "0  Российский экономический университет им. Г.В. ...        0.0   \n",
              "1                                                           0.0   \n",
              "2                                                           0.0   \n",
              "3       Warsaw School of Economics (Bachelor Degree)        0.0   \n",
              "4  Российская академия народного хозяйства и госу...        0.0   \n",
              "\n",
              "                                                 URL  \\\n",
              "0  https://hh.ru/resume/83da3b970003d5d5870039ed1...   \n",
              "1  https://hh.ru/resume/8606f37b000773de980039ed1...   \n",
              "2  https://hh.ru/resume/e142604300013aa98d0039ed1...   \n",
              "3  https://hh.ru/resume/cb3d9ca600020eb8d00039ed1...   \n",
              "4  https://hh.ru/resume/ee2448210005c2f0080039ed1...   \n",
              "\n",
              "                                      lastUniFaculty  \\\n",
              "0  аспирантура, Экономика и управление народным х...   \n",
              "1                         ИИТ, Программная инженерия   \n",
              "2  Факультет вычислительной техники, Специалист п...   \n",
              "3                        Advanced analytics Big Data   \n",
              "4                               Экономика, Экономика   \n",
              "\n",
              "                                     lastUni2Faculty  DataAnalyst  \\\n",
              "0  МШБиМЭ, Международные Корпоративные Финансы (н...          1.0   \n",
              "1                                                NaN          1.0   \n",
              "2                                                NaN          1.0   \n",
              "3                    Finance and accounting, Banking          1.0   \n",
              "4                            Экономический факультет          1.0   \n",
              "\n",
              "   DataScientist  \n",
              "0            0.0  \n",
              "1            0.0  \n",
              "2            1.0  \n",
              "3            0.0  \n",
              "4            0.0  \n",
              "\n",
              "[5 rows x 38 columns]"
            ],
            "text/html": [
              "\n",
              "  <div id=\"df-0cd9dcf2-0dba-4c9b-9e66-0848522d3299\">\n",
              "    <div class=\"colab-df-container\">\n",
              "      <div>\n",
              "<style scoped>\n",
              "    .dataframe tbody tr th:only-of-type {\n",
              "        vertical-align: middle;\n",
              "    }\n",
              "\n",
              "    .dataframe tbody tr th {\n",
              "        vertical-align: top;\n",
              "    }\n",
              "\n",
              "    .dataframe thead th {\n",
              "        text-align: right;\n",
              "    }\n",
              "</style>\n",
              "<table border=\"1\" class=\"dataframe\">\n",
              "  <thead>\n",
              "    <tr style=\"text-align: right;\">\n",
              "      <th></th>\n",
              "      <th>Title</th>\n",
              "      <th>IsEnglish</th>\n",
              "      <th>SpecCat</th>\n",
              "      <th>ExpPeriod</th>\n",
              "      <th>Salary</th>\n",
              "      <th>Age</th>\n",
              "      <th>Gender</th>\n",
              "      <th>City</th>\n",
              "      <th>WorkType</th>\n",
              "      <th>WorkSchedule</th>\n",
              "      <th>...</th>\n",
              "      <th>EduLevel</th>\n",
              "      <th>N_Unis</th>\n",
              "      <th>LastUni</th>\n",
              "      <th>LastUni2</th>\n",
              "      <th>Top 10 Uni</th>\n",
              "      <th>URL</th>\n",
              "      <th>lastUniFaculty</th>\n",
              "      <th>lastUni2Faculty</th>\n",
              "      <th>DataAnalyst</th>\n",
              "      <th>DataScientist</th>\n",
              "    </tr>\n",
              "  </thead>\n",
              "  <tbody>\n",
              "    <tr>\n",
              "      <th>0</th>\n",
              "      <td>BI аналитик</td>\n",
              "      <td>0.0</td>\n",
              "      <td>Продуктовый аналитик\\nМаркетолог-аналитик\\nАна...</td>\n",
              "      <td>32.0</td>\n",
              "      <td>NaN</td>\n",
              "      <td>25.0</td>\n",
              "      <td>0.0</td>\n",
              "      <td>Москва</td>\n",
              "      <td>1.0</td>\n",
              "      <td>0.0</td>\n",
              "      <td>...</td>\n",
              "      <td>Высшее образование (Магистр)</td>\n",
              "      <td>5.0</td>\n",
              "      <td>Московский гуманитарно-экономический институт,...</td>\n",
              "      <td>Российский экономический университет им. Г.В. ...</td>\n",
              "      <td>0.0</td>\n",
              "      <td>https://hh.ru/resume/83da3b970003d5d5870039ed1...</td>\n",
              "      <td>аспирантура, Экономика и управление народным х...</td>\n",
              "      <td>МШБиМЭ, Международные Корпоративные Финансы (н...</td>\n",
              "      <td>1.0</td>\n",
              "      <td>0.0</td>\n",
              "    </tr>\n",
              "    <tr>\n",
              "      <th>1</th>\n",
              "      <td>Программист-разработчик</td>\n",
              "      <td>0.0</td>\n",
              "      <td>Программист, разработчик\\n</td>\n",
              "      <td>15.0</td>\n",
              "      <td>NaN</td>\n",
              "      <td>21.0</td>\n",
              "      <td>0.0</td>\n",
              "      <td>Москва</td>\n",
              "      <td>1.0</td>\n",
              "      <td>0.0</td>\n",
              "      <td>...</td>\n",
              "      <td>Высшее образование (Бакалавр)</td>\n",
              "      <td>1.0</td>\n",
              "      <td>Челябинский государственный университет, Челяб...</td>\n",
              "      <td></td>\n",
              "      <td>0.0</td>\n",
              "      <td>https://hh.ru/resume/8606f37b000773de980039ed1...</td>\n",
              "      <td>ИИТ, Программная инженерия</td>\n",
              "      <td>NaN</td>\n",
              "      <td>1.0</td>\n",
              "      <td>0.0</td>\n",
              "    </tr>\n",
              "    <tr>\n",
              "      <th>2</th>\n",
              "      <td>Ведущий аналитик, BI-аналитик, Аналитик данных...</td>\n",
              "      <td>0.0</td>\n",
              "      <td>Программист, разработчик\\nBI-аналитик, аналити...</td>\n",
              "      <td>78.0</td>\n",
              "      <td>NaN</td>\n",
              "      <td>38.0</td>\n",
              "      <td>0.0</td>\n",
              "      <td>Пенза</td>\n",
              "      <td>1.0</td>\n",
              "      <td>0.0</td>\n",
              "      <td>...</td>\n",
              "      <td>Высшее образование</td>\n",
              "      <td>1.0</td>\n",
              "      <td>Пензенский Государственный Университет</td>\n",
              "      <td></td>\n",
              "      <td>0.0</td>\n",
              "      <td>https://hh.ru/resume/e142604300013aa98d0039ed1...</td>\n",
              "      <td>Факультет вычислительной техники, Специалист п...</td>\n",
              "      <td>NaN</td>\n",
              "      <td>1.0</td>\n",
              "      <td>1.0</td>\n",
              "    </tr>\n",
              "    <tr>\n",
              "      <th>3</th>\n",
              "      <td>Разработчик BI</td>\n",
              "      <td>0.0</td>\n",
              "      <td>Программист, разработчик\\n</td>\n",
              "      <td>100.0</td>\n",
              "      <td>170000.0</td>\n",
              "      <td>29.0</td>\n",
              "      <td>1.0</td>\n",
              "      <td>Москва</td>\n",
              "      <td>1.0</td>\n",
              "      <td>0.0</td>\n",
              "      <td>...</td>\n",
              "      <td>Высшее образование (Магистр)</td>\n",
              "      <td>2.0</td>\n",
              "      <td>Warsaw School of Economics (Master Degree)</td>\n",
              "      <td>Warsaw School of Economics (Bachelor Degree)</td>\n",
              "      <td>0.0</td>\n",
              "      <td>https://hh.ru/resume/cb3d9ca600020eb8d00039ed1...</td>\n",
              "      <td>Advanced analytics Big Data</td>\n",
              "      <td>Finance and accounting, Banking</td>\n",
              "      <td>1.0</td>\n",
              "      <td>0.0</td>\n",
              "    </tr>\n",
              "    <tr>\n",
              "      <th>4</th>\n",
              "      <td>Аналитик</td>\n",
              "      <td>0.0</td>\n",
              "      <td>Аналитик\\n</td>\n",
              "      <td>30.0</td>\n",
              "      <td>160000.0</td>\n",
              "      <td>24.0</td>\n",
              "      <td>0.0</td>\n",
              "      <td>Москва</td>\n",
              "      <td>1.0</td>\n",
              "      <td>0.0</td>\n",
              "      <td>...</td>\n",
              "      <td>Высшее образование (Магистр)</td>\n",
              "      <td>3.0</td>\n",
              "      <td>Гжельский государственный художественно-промыш...</td>\n",
              "      <td>Российская академия народного хозяйства и госу...</td>\n",
              "      <td>0.0</td>\n",
              "      <td>https://hh.ru/resume/ee2448210005c2f0080039ed1...</td>\n",
              "      <td>Экономика, Экономика</td>\n",
              "      <td>Экономический факультет</td>\n",
              "      <td>1.0</td>\n",
              "      <td>0.0</td>\n",
              "    </tr>\n",
              "  </tbody>\n",
              "</table>\n",
              "<p>5 rows × 38 columns</p>\n",
              "</div>\n",
              "      <button class=\"colab-df-convert\" onclick=\"convertToInteractive('df-0cd9dcf2-0dba-4c9b-9e66-0848522d3299')\"\n",
              "              title=\"Convert this dataframe to an interactive table.\"\n",
              "              style=\"display:none;\">\n",
              "        \n",
              "  <svg xmlns=\"http://www.w3.org/2000/svg\" height=\"24px\"viewBox=\"0 0 24 24\"\n",
              "       width=\"24px\">\n",
              "    <path d=\"M0 0h24v24H0V0z\" fill=\"none\"/>\n",
              "    <path d=\"M18.56 5.44l.94 2.06.94-2.06 2.06-.94-2.06-.94-.94-2.06-.94 2.06-2.06.94zm-11 1L8.5 8.5l.94-2.06 2.06-.94-2.06-.94L8.5 2.5l-.94 2.06-2.06.94zm10 10l.94 2.06.94-2.06 2.06-.94-2.06-.94-.94-2.06-.94 2.06-2.06.94z\"/><path d=\"M17.41 7.96l-1.37-1.37c-.4-.4-.92-.59-1.43-.59-.52 0-1.04.2-1.43.59L10.3 9.45l-7.72 7.72c-.78.78-.78 2.05 0 2.83L4 21.41c.39.39.9.59 1.41.59.51 0 1.02-.2 1.41-.59l7.78-7.78 2.81-2.81c.8-.78.8-2.07 0-2.86zM5.41 20L4 18.59l7.72-7.72 1.47 1.35L5.41 20z\"/>\n",
              "  </svg>\n",
              "      </button>\n",
              "      \n",
              "  <style>\n",
              "    .colab-df-container {\n",
              "      display:flex;\n",
              "      flex-wrap:wrap;\n",
              "      gap: 12px;\n",
              "    }\n",
              "\n",
              "    .colab-df-convert {\n",
              "      background-color: #E8F0FE;\n",
              "      border: none;\n",
              "      border-radius: 50%;\n",
              "      cursor: pointer;\n",
              "      display: none;\n",
              "      fill: #1967D2;\n",
              "      height: 32px;\n",
              "      padding: 0 0 0 0;\n",
              "      width: 32px;\n",
              "    }\n",
              "\n",
              "    .colab-df-convert:hover {\n",
              "      background-color: #E2EBFA;\n",
              "      box-shadow: 0px 1px 2px rgba(60, 64, 67, 0.3), 0px 1px 3px 1px rgba(60, 64, 67, 0.15);\n",
              "      fill: #174EA6;\n",
              "    }\n",
              "\n",
              "    [theme=dark] .colab-df-convert {\n",
              "      background-color: #3B4455;\n",
              "      fill: #D2E3FC;\n",
              "    }\n",
              "\n",
              "    [theme=dark] .colab-df-convert:hover {\n",
              "      background-color: #434B5C;\n",
              "      box-shadow: 0px 1px 3px 1px rgba(0, 0, 0, 0.15);\n",
              "      filter: drop-shadow(0px 1px 2px rgba(0, 0, 0, 0.3));\n",
              "      fill: #FFFFFF;\n",
              "    }\n",
              "  </style>\n",
              "\n",
              "      <script>\n",
              "        const buttonEl =\n",
              "          document.querySelector('#df-0cd9dcf2-0dba-4c9b-9e66-0848522d3299 button.colab-df-convert');\n",
              "        buttonEl.style.display =\n",
              "          google.colab.kernel.accessAllowed ? 'block' : 'none';\n",
              "\n",
              "        async function convertToInteractive(key) {\n",
              "          const element = document.querySelector('#df-0cd9dcf2-0dba-4c9b-9e66-0848522d3299');\n",
              "          const dataTable =\n",
              "            await google.colab.kernel.invokeFunction('convertToInteractive',\n",
              "                                                     [key], {});\n",
              "          if (!dataTable) return;\n",
              "\n",
              "          const docLinkHtml = 'Like what you see? Visit the ' +\n",
              "            '<a target=\"_blank\" href=https://colab.research.google.com/notebooks/data_table.ipynb>data table notebook</a>'\n",
              "            + ' to learn more about interactive tables.';\n",
              "          element.innerHTML = '';\n",
              "          dataTable['output_type'] = 'display_data';\n",
              "          await google.colab.output.renderOutput(dataTable, element);\n",
              "          const docLink = document.createElement('div');\n",
              "          docLink.innerHTML = docLinkHtml;\n",
              "          element.appendChild(docLink);\n",
              "        }\n",
              "      </script>\n",
              "    </div>\n",
              "  </div>\n",
              "  "
            ]
          },
          "metadata": {},
          "execution_count": 79
        }
      ],
      "source": [
        "data_df.head()"
      ]
    },
    {
      "cell_type": "markdown",
      "metadata": {
        "id": "VdAykW-fkwod"
      },
      "source": [
        "# Undersampling"
      ]
    },
    {
      "cell_type": "code",
      "execution_count": null,
      "metadata": {
        "colab": {
          "base_uri": "https://localhost:8080/"
        },
        "id": "Mihv1oLbzei0",
        "outputId": "c61e6be0-04b6-4cf0-e91b-1494c5bf3b99"
      },
      "outputs": [
        {
          "output_type": "stream",
          "name": "stderr",
          "text": [
            "<ipython-input-80-6138ae8f4e55>:5: FutureWarning: The frame.append method is deprecated and will be removed from pandas in a future version. Use pandas.concat instead.\n",
            "  df_da_undersampling = df_da_0.append(df_da_1)\n"
          ]
        }
      ],
      "source": [
        "df_da_1 = data_df[data_df['DataAnalyst']==1]\n",
        "df_da_0 = data_df[data_df['DataAnalyst']==0]\n",
        "df_da_0 = df_da_0.sample(len(df_da_1))\n",
        "\n",
        "df_da_undersampling = df_da_0.append(df_da_1)\n",
        "df_da_undersampling = df_da_undersampling.sample(frac=1).reset_index(drop=True)\n",
        "df_da_undersampling = df_da_undersampling.drop(['DataScientist'], axis=1)\n",
        "\n",
        "X_da_undersampling, y_da_undersampling = df_da_undersampling.drop(['DataAnalyst'], axis=1), df_da_undersampling['DataAnalyst']"
      ]
    },
    {
      "cell_type": "code",
      "execution_count": null,
      "metadata": {
        "colab": {
          "base_uri": "https://localhost:8080/"
        },
        "id": "In-folCO1hAx",
        "outputId": "d0030fd6-03a2-4338-c504-aca59cf5f512"
      },
      "outputs": [
        {
          "output_type": "stream",
          "name": "stderr",
          "text": [
            "<ipython-input-81-c00c638ca64e>:5: FutureWarning: The frame.append method is deprecated and will be removed from pandas in a future version. Use pandas.concat instead.\n",
            "  df_ds_undersampling = df_ds_0.append(df_ds_1)\n"
          ]
        }
      ],
      "source": [
        "df_ds_1 = data_df[data_df['DataScientist']==1]\n",
        "df_ds_0 = data_df[data_df['DataScientist']==0]\n",
        "df_ds_0 = df_ds_0.sample(len(df_ds_1))\n",
        "\n",
        "df_ds_undersampling = df_ds_0.append(df_ds_1)\n",
        "df_ds_undersampling = df_ds_undersampling.sample(frac=1).reset_index(drop=True)\n",
        "df_ds_undersampling = df_ds_undersampling.drop(['DataAnalyst'], axis=1)\n",
        "\n",
        "X_ds_undersampling, y_ds_undersampling = df_ds_undersampling.drop(['DataScientist'], axis=1), df_ds_undersampling['DataScientist']"
      ]
    },
    {
      "cell_type": "code",
      "source": [
        "X_train_da, X_test_da, y_train_da, y_test_da = train_test_split(X_da_undersampling, y_da_undersampling, test_size=0.33)"
      ],
      "metadata": {
        "id": "Uw_jApkJz0TG"
      },
      "execution_count": null,
      "outputs": []
    },
    {
      "cell_type": "code",
      "source": [
        "X_train_ds, X_test_ds, y_train_ds, y_test_ds = train_test_split(X_ds_undersampling, y_ds_undersampling, test_size=0.33)"
      ],
      "metadata": {
        "id": "ZMagP5Gp0EVP"
      },
      "execution_count": null,
      "outputs": []
    },
    {
      "cell_type": "markdown",
      "metadata": {
        "id": "ckvvDcX3kzE-"
      },
      "source": [
        "# Oversampling"
      ]
    },
    {
      "cell_type": "code",
      "execution_count": null,
      "metadata": {
        "id": "rTz2NNXc5Bix"
      },
      "outputs": [],
      "source": [
        "X_da, y_da = data_df.drop(['DataAnalyst', 'DataScientist'], axis=1), data_df['DataAnalyst']\n",
        "X_ds, y_ds = data_df.drop(['DataAnalyst', 'DataScientist'], axis=1), data_df['DataScientist']"
      ]
    },
    {
      "cell_type": "markdown",
      "metadata": {
        "id": "ic253yfx4Ty7"
      },
      "source": [
        "# BERT feature extraction"
      ]
    },
    {
      "cell_type": "code",
      "execution_count": null,
      "metadata": {
        "id": "JMj9wAif7Ra3"
      },
      "outputs": [],
      "source": [
        "def concating_features(features, df):\n",
        "  sen_w_feats = []\n",
        "  df = df.fillna(\"\")\n",
        "\n",
        "  for (i, row) in df.iterrows():\n",
        "    combined = ''\n",
        "\n",
        "    for col_name in features:\n",
        "      combined += (str(row[col_name]) + ' [SEP] ')\n",
        "    \n",
        "    sen_w_feats.append(combined)\n",
        "\n",
        "  df['text'] = sen_w_feats\n",
        "  df = df.drop(features, axis=1)\n",
        "  return df"
      ]
    },
    {
      "cell_type": "code",
      "execution_count": null,
      "metadata": {
        "id": "JaVjccoK17aD"
      },
      "outputs": [],
      "source": [
        "text_features = ['Description', 'LastWorkDesc', 'LastWorkDesc2']"
      ]
    },
    {
      "cell_type": "code",
      "execution_count": null,
      "metadata": {
        "id": "FCkiBlhG8Vk2"
      },
      "outputs": [],
      "source": [
        "X_text_ds_undersampling = X_ds_undersampling[text_features]"
      ]
    },
    {
      "cell_type": "code",
      "execution_count": null,
      "metadata": {
        "id": "kJW3YYtc82yu"
      },
      "outputs": [],
      "source": [
        "X_text_ds_undersampling = concating_features(text_features, X_text_ds_undersampling)"
      ]
    },
    {
      "cell_type": "code",
      "execution_count": null,
      "metadata": {
        "id": "ZsA7p1PW9GEL"
      },
      "outputs": [],
      "source": [
        "def Bert_model(X, y):\n",
        "  bert_preprocess = hub.KerasLayer(\"https://tfhub.dev/tensorflow/bert_en_uncased_preprocess/3\")\n",
        "  bert_encoder = hub.KerasLayer(\"https://tfhub.dev/tensorflow/bert_en_uncased_L-12_H-768_A-12/4\")\n",
        "\n",
        "  text_input = tf.keras.layers.Input(shape=(), dtype=tf.string, name='text')\n",
        "  preprocessed_text = bert_preprocess(text_input)\n",
        "  outputs = bert_encoder(preprocessed_text)\n",
        "\n",
        "  l = tf.keras.layers.Dropout(0.1, name=\"dropout\")(outputs['pooled_output'])\n",
        "  l = tf.keras.layers.Dense(1, activation='sigmoid', name=\"output\")(l)\n",
        "\n",
        "  model = tf.keras.Model(inputs=[text_input], outputs = [l])\n",
        "\n",
        "  METRICS = [\n",
        "      tf.keras.metrics.BinaryAccuracy(name='accuracy'),\n",
        "      tf.keras.metrics.Precision(name='precision'),\n",
        "      tf.keras.metrics.Recall(name='recall')\n",
        "  ]\n",
        "\n",
        "  model.compile(optimizer='adam',\n",
        "    loss='binary_crossentropy',\n",
        "    metrics=METRICS)\n",
        "  \n",
        "  model.fit(X.text, y, epochs=10)\n",
        "\n",
        "  return model"
      ]
    },
    {
      "cell_type": "code",
      "execution_count": null,
      "metadata": {
        "colab": {
          "base_uri": "https://localhost:8080/"
        },
        "id": "h7aeIVQt-VJd",
        "outputId": "bf3fb4e4-edbe-43a0-d45a-b1fd33bcc9fa"
      },
      "outputs": [
        {
          "output_type": "stream",
          "name": "stdout",
          "text": [
            "Epoch 1/10\n",
            "7/7 [==============================] - 16s 828ms/step - loss: 0.7513 - accuracy: 0.4099 - precision: 0.4153 - recall: 0.4414\n",
            "Epoch 2/10\n",
            "7/7 [==============================] - 4s 478ms/step - loss: 0.7286 - accuracy: 0.5045 - precision: 0.5053 - recall: 0.4324\n",
            "Epoch 3/10\n",
            "7/7 [==============================] - 3s 453ms/step - loss: 0.7120 - accuracy: 0.4775 - precision: 0.4699 - recall: 0.3514\n",
            "Epoch 4/10\n",
            "7/7 [==============================] - 3s 472ms/step - loss: 0.7033 - accuracy: 0.5000 - precision: 0.5000 - recall: 0.6577\n",
            "Epoch 5/10\n",
            "7/7 [==============================] - 4s 499ms/step - loss: 0.7049 - accuracy: 0.5360 - precision: 0.5400 - recall: 0.4865\n",
            "Epoch 6/10\n",
            "7/7 [==============================] - 3s 453ms/step - loss: 0.6956 - accuracy: 0.5270 - precision: 0.5326 - recall: 0.4414\n",
            "Epoch 7/10\n",
            "7/7 [==============================] - 3s 452ms/step - loss: 0.7051 - accuracy: 0.4775 - precision: 0.4752 - recall: 0.4324\n",
            "Epoch 8/10\n",
            "7/7 [==============================] - 4s 545ms/step - loss: 0.6817 - accuracy: 0.5225 - precision: 0.5258 - recall: 0.4595\n",
            "Epoch 9/10\n",
            "7/7 [==============================] - 3s 452ms/step - loss: 0.6714 - accuracy: 0.5811 - precision: 0.5750 - recall: 0.6216\n",
            "Epoch 10/10\n",
            "7/7 [==============================] - 3s 451ms/step - loss: 0.6764 - accuracy: 0.5766 - precision: 0.5895 - recall: 0.5045\n"
          ]
        }
      ],
      "source": [
        "model_text_ds = Bert_model(X_text_ds_undersampling, y_ds_undersampling)"
      ]
    },
    {
      "cell_type": "code",
      "source": [
        "import joblib\n",
        "\n",
        "filename = \"bert_text_ds_model.joblib\"\n",
        "joblib.dump(model_text_ds, filename)"
      ],
      "metadata": {
        "colab": {
          "base_uri": "https://localhost:8080/"
        },
        "id": "wrYaTsBQIqLF",
        "outputId": "ff383666-a88e-4f0f-dde5-a2dccf612b48"
      },
      "execution_count": null,
      "outputs": [
        {
          "output_type": "execute_result",
          "data": {
            "text/plain": [
              "['bert_text_ds_model.joblib']"
            ]
          },
          "metadata": {},
          "execution_count": 91
        }
      ]
    },
    {
      "cell_type": "markdown",
      "metadata": {
        "id": "RhDGF1yoc8BX"
      },
      "source": [
        "# Test data"
      ]
    },
    {
      "cell_type": "code",
      "execution_count": null,
      "metadata": {
        "id": "1Q48N4xfdEjz"
      },
      "outputs": [],
      "source": [
        "test_data = data_df[text_features]\n",
        "test_data = concating_features(text_features, test_data)\n"
      ]
    },
    {
      "cell_type": "code",
      "source": [
        "test_data"
      ],
      "metadata": {
        "colab": {
          "base_uri": "https://localhost:8080/",
          "height": 424
        },
        "id": "jR37bsDniX1X",
        "outputId": "8481e3eb-7cd8-4f4e-9733-4aa8409207d3"
      },
      "execution_count": null,
      "outputs": [
        {
          "output_type": "execute_result",
          "data": {
            "text/plain": [
              "                                                   text\n",
              "0     Academic IELTS 8.0 [SEP] Работа над проектом I...\n",
              "1     Имеется опыт в создании Android-приложений на ...\n",
              "2     Ключевые знания и навыки:\\nКачественный анализ...\n",
              "3     Энергичность, быстрая обучаемость, открытость....\n",
              "4     ОТВЕЧАЮ ТОЛЬКО В МЕССЕНДЖЕРАХ ИЛИ НА ПОЧТУ!!!\\...\n",
              "...                                                 ...\n",
              "9557  Семейное положение: женат, есть дети \\r\\nЖелае...\n",
              "9558  Коммуникабельность, стрессоустойчивость, работ...\n",
              "9559  Коммуникабельная, гибкая, целеустремленная, ис...\n",
              "9560  - Знаю участки работы универсального коммерчес...\n",
              "9561  MS Windows 2000, Word, Excel, 1С:Предприятие 8...\n",
              "\n",
              "[9562 rows x 1 columns]"
            ],
            "text/html": [
              "\n",
              "  <div id=\"df-15b1dff2-b76c-4351-b952-23460261af13\">\n",
              "    <div class=\"colab-df-container\">\n",
              "      <div>\n",
              "<style scoped>\n",
              "    .dataframe tbody tr th:only-of-type {\n",
              "        vertical-align: middle;\n",
              "    }\n",
              "\n",
              "    .dataframe tbody tr th {\n",
              "        vertical-align: top;\n",
              "    }\n",
              "\n",
              "    .dataframe thead th {\n",
              "        text-align: right;\n",
              "    }\n",
              "</style>\n",
              "<table border=\"1\" class=\"dataframe\">\n",
              "  <thead>\n",
              "    <tr style=\"text-align: right;\">\n",
              "      <th></th>\n",
              "      <th>text</th>\n",
              "    </tr>\n",
              "  </thead>\n",
              "  <tbody>\n",
              "    <tr>\n",
              "      <th>0</th>\n",
              "      <td>Academic IELTS 8.0 [SEP] Работа над проектом I...</td>\n",
              "    </tr>\n",
              "    <tr>\n",
              "      <th>1</th>\n",
              "      <td>Имеется опыт в создании Android-приложений на ...</td>\n",
              "    </tr>\n",
              "    <tr>\n",
              "      <th>2</th>\n",
              "      <td>Ключевые знания и навыки:\\nКачественный анализ...</td>\n",
              "    </tr>\n",
              "    <tr>\n",
              "      <th>3</th>\n",
              "      <td>Энергичность, быстрая обучаемость, открытость....</td>\n",
              "    </tr>\n",
              "    <tr>\n",
              "      <th>4</th>\n",
              "      <td>ОТВЕЧАЮ ТОЛЬКО В МЕССЕНДЖЕРАХ ИЛИ НА ПОЧТУ!!!\\...</td>\n",
              "    </tr>\n",
              "    <tr>\n",
              "      <th>...</th>\n",
              "      <td>...</td>\n",
              "    </tr>\n",
              "    <tr>\n",
              "      <th>9557</th>\n",
              "      <td>Семейное положение: женат, есть дети \\r\\nЖелае...</td>\n",
              "    </tr>\n",
              "    <tr>\n",
              "      <th>9558</th>\n",
              "      <td>Коммуникабельность, стрессоустойчивость, работ...</td>\n",
              "    </tr>\n",
              "    <tr>\n",
              "      <th>9559</th>\n",
              "      <td>Коммуникабельная, гибкая, целеустремленная, ис...</td>\n",
              "    </tr>\n",
              "    <tr>\n",
              "      <th>9560</th>\n",
              "      <td>- Знаю участки работы универсального коммерчес...</td>\n",
              "    </tr>\n",
              "    <tr>\n",
              "      <th>9561</th>\n",
              "      <td>MS Windows 2000, Word, Excel, 1С:Предприятие 8...</td>\n",
              "    </tr>\n",
              "  </tbody>\n",
              "</table>\n",
              "<p>9562 rows × 1 columns</p>\n",
              "</div>\n",
              "      <button class=\"colab-df-convert\" onclick=\"convertToInteractive('df-15b1dff2-b76c-4351-b952-23460261af13')\"\n",
              "              title=\"Convert this dataframe to an interactive table.\"\n",
              "              style=\"display:none;\">\n",
              "        \n",
              "  <svg xmlns=\"http://www.w3.org/2000/svg\" height=\"24px\"viewBox=\"0 0 24 24\"\n",
              "       width=\"24px\">\n",
              "    <path d=\"M0 0h24v24H0V0z\" fill=\"none\"/>\n",
              "    <path d=\"M18.56 5.44l.94 2.06.94-2.06 2.06-.94-2.06-.94-.94-2.06-.94 2.06-2.06.94zm-11 1L8.5 8.5l.94-2.06 2.06-.94-2.06-.94L8.5 2.5l-.94 2.06-2.06.94zm10 10l.94 2.06.94-2.06 2.06-.94-2.06-.94-.94-2.06-.94 2.06-2.06.94z\"/><path d=\"M17.41 7.96l-1.37-1.37c-.4-.4-.92-.59-1.43-.59-.52 0-1.04.2-1.43.59L10.3 9.45l-7.72 7.72c-.78.78-.78 2.05 0 2.83L4 21.41c.39.39.9.59 1.41.59.51 0 1.02-.2 1.41-.59l7.78-7.78 2.81-2.81c.8-.78.8-2.07 0-2.86zM5.41 20L4 18.59l7.72-7.72 1.47 1.35L5.41 20z\"/>\n",
              "  </svg>\n",
              "      </button>\n",
              "      \n",
              "  <style>\n",
              "    .colab-df-container {\n",
              "      display:flex;\n",
              "      flex-wrap:wrap;\n",
              "      gap: 12px;\n",
              "    }\n",
              "\n",
              "    .colab-df-convert {\n",
              "      background-color: #E8F0FE;\n",
              "      border: none;\n",
              "      border-radius: 50%;\n",
              "      cursor: pointer;\n",
              "      display: none;\n",
              "      fill: #1967D2;\n",
              "      height: 32px;\n",
              "      padding: 0 0 0 0;\n",
              "      width: 32px;\n",
              "    }\n",
              "\n",
              "    .colab-df-convert:hover {\n",
              "      background-color: #E2EBFA;\n",
              "      box-shadow: 0px 1px 2px rgba(60, 64, 67, 0.3), 0px 1px 3px 1px rgba(60, 64, 67, 0.15);\n",
              "      fill: #174EA6;\n",
              "    }\n",
              "\n",
              "    [theme=dark] .colab-df-convert {\n",
              "      background-color: #3B4455;\n",
              "      fill: #D2E3FC;\n",
              "    }\n",
              "\n",
              "    [theme=dark] .colab-df-convert:hover {\n",
              "      background-color: #434B5C;\n",
              "      box-shadow: 0px 1px 3px 1px rgba(0, 0, 0, 0.15);\n",
              "      filter: drop-shadow(0px 1px 2px rgba(0, 0, 0, 0.3));\n",
              "      fill: #FFFFFF;\n",
              "    }\n",
              "  </style>\n",
              "\n",
              "      <script>\n",
              "        const buttonEl =\n",
              "          document.querySelector('#df-15b1dff2-b76c-4351-b952-23460261af13 button.colab-df-convert');\n",
              "        buttonEl.style.display =\n",
              "          google.colab.kernel.accessAllowed ? 'block' : 'none';\n",
              "\n",
              "        async function convertToInteractive(key) {\n",
              "          const element = document.querySelector('#df-15b1dff2-b76c-4351-b952-23460261af13');\n",
              "          const dataTable =\n",
              "            await google.colab.kernel.invokeFunction('convertToInteractive',\n",
              "                                                     [key], {});\n",
              "          if (!dataTable) return;\n",
              "\n",
              "          const docLinkHtml = 'Like what you see? Visit the ' +\n",
              "            '<a target=\"_blank\" href=https://colab.research.google.com/notebooks/data_table.ipynb>data table notebook</a>'\n",
              "            + ' to learn more about interactive tables.';\n",
              "          element.innerHTML = '';\n",
              "          dataTable['output_type'] = 'display_data';\n",
              "          await google.colab.output.renderOutput(dataTable, element);\n",
              "          const docLink = document.createElement('div');\n",
              "          docLink.innerHTML = docLinkHtml;\n",
              "          element.appendChild(docLink);\n",
              "        }\n",
              "      </script>\n",
              "    </div>\n",
              "  </div>\n",
              "  "
            ]
          },
          "metadata": {},
          "execution_count": 93
        }
      ]
    },
    {
      "cell_type": "code",
      "execution_count": null,
      "metadata": {
        "colab": {
          "base_uri": "https://localhost:8080/"
        },
        "id": "Fxdt2ok2Yvcv",
        "outputId": "f7632ecd-55c1-4479-e838-7b6b75a5a19b"
      },
      "outputs": [
        {
          "output_type": "stream",
          "name": "stdout",
          "text": [
            "299/299 [==============================] - 153s 509ms/step\n"
          ]
        }
      ],
      "source": [
        "y_predicted = model_text_ds.predict(test_data.text)\n",
        "y_predicted = y_predicted.flatten()"
      ]
    },
    {
      "cell_type": "code",
      "source": [
        "check_y = np.where(y_predicted > 0.5, 1, 0)"
      ],
      "metadata": {
        "id": "0ruwIcFJjSsM"
      },
      "execution_count": null,
      "outputs": []
    },
    {
      "cell_type": "code",
      "source": [
        "from sklearn.metrics import f1_score, accuracy_score, precision_score, recall_score\n",
        "\n",
        "print(accuracy_score(check_y, data_df['DataScientist']))"
      ],
      "metadata": {
        "colab": {
          "base_uri": "https://localhost:8080/"
        },
        "id": "t1b1YAg2fm6o",
        "outputId": "40738cf7-800f-4e82-b398-dea68f413362"
      },
      "execution_count": null,
      "outputs": [
        {
          "output_type": "stream",
          "name": "stdout",
          "text": [
            "0.6729763647772432\n"
          ]
        }
      ]
    },
    {
      "cell_type": "code",
      "source": [
        "print(f1_score(check_y, data_df['DataScientist']))"
      ],
      "metadata": {
        "colab": {
          "base_uri": "https://localhost:8080/"
        },
        "id": "Bcrl3uS7iqdh",
        "outputId": "81a78f96-abf8-491a-d420-48e1db7c7f02"
      },
      "execution_count": null,
      "outputs": [
        {
          "output_type": "stream",
          "name": "stdout",
          "text": [
            "0.03338485316846986\n"
          ]
        }
      ]
    },
    {
      "cell_type": "code",
      "source": [
        "print(precision_score(check_y, data_df['DataScientist']))\n",
        "print(recall_score(check_y, data_df['DataScientist']))"
      ],
      "metadata": {
        "colab": {
          "base_uri": "https://localhost:8080/"
        },
        "id": "Q6wJOXlO30Fz",
        "outputId": "37fd0e00-2293-4ffe-a6f6-fd1ddbb86315"
      },
      "execution_count": null,
      "outputs": [
        {
          "output_type": "stream",
          "name": "stdout",
          "text": [
            "0.4864864864864865\n",
            "0.017285531370038413\n"
          ]
        }
      ]
    },
    {
      "cell_type": "code",
      "source": [
        "results = pd.read_csv('result.csv')\n",
        "# results = pd.DataFrame()"
      ],
      "metadata": {
        "id": "idCokizzmIye"
      },
      "execution_count": null,
      "outputs": []
    },
    {
      "cell_type": "code",
      "source": [
        "results['ds'] = y_predicted"
      ],
      "metadata": {
        "id": "ghO6FpjrlK2N"
      },
      "execution_count": null,
      "outputs": []
    },
    {
      "cell_type": "code",
      "source": [
        "results.to_csv('result.csv', index=False)"
      ],
      "metadata": {
        "id": "LQDTuKJ4JMpX"
      },
      "execution_count": null,
      "outputs": []
    }
  ],
  "metadata": {
    "colab": {
      "provenance": [],
      "collapsed_sections": [
        "ckvvDcX3kzE-"
      ],
      "gpuType": "T4"
    },
    "kernelspec": {
      "display_name": "Python 3",
      "name": "python3"
    },
    "language_info": {
      "name": "python"
    },
    "accelerator": "GPU",
    "gpuClass": "standard"
  },
  "nbformat": 4,
  "nbformat_minor": 0
}
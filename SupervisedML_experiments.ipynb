{
 "cells": [
  {
   "cell_type": "code",
   "execution_count": 248,
   "metadata": {},
   "outputs": [],
   "source": [
    "import pandas as pd\n",
    "import numpy as np\n",
    "from xgboost import XGBClassifier\n",
    "from sklearn.linear_model import LogisticRegression\n",
    "from sklearn.metrics import accuracy_score, f1_score, recall_score, precision_score\n",
    "from sklearn.pipeline import Pipeline\n",
    "from Balancing_data import undersampling, oversampling\n",
    "from collections import Counter\n",
    "from  imblearn.under_sampling import RandomUnderSampler\n",
    "from sklearn.feature_extraction.text import TfidfVectorizer"
   ]
  },
  {
   "cell_type": "code",
   "execution_count": 249,
   "metadata": {},
   "outputs": [],
   "source": [
    "train_cosine = pd.read_csv('train_test_data/train_unbalanced_cosine.csv')\n",
    "test_cosine = pd.read_csv('train_test_data/test_unbalanced_cosine.csv')\n",
    "\n",
    "train_bert = pd.read_csv('train_test_data/train_unbalanced_bert.csv')\n",
    "test_bert = pd.read_csv('train_test_data/test_unbalanced_bert.csv')\n",
    "\n",
    "train_raw = pd.read_csv('train_test_data/train_unbalanced_prep.csv').drop(['Unnamed: 0'], axis=1)\n",
    "test_raw = pd.read_csv('train_test_data/test_unbalanced_prep.csv').drop(['Unnamed: 0'], axis=1)"
   ]
  },
  {
   "cell_type": "code",
   "execution_count": 250,
   "metadata": {},
   "outputs": [],
   "source": [
    "cosine_da = train_cosine.drop(['URL', 'Cosine_DS_LastWorkDesc', 'Cosine_DS_LastWorkDesc2',\t'Cosine_DS_Description', 'DataScientist'], axis=1)\n",
    "cosine_ds = train_cosine.drop(['URL', 'Cosine_DA_LastWorkDesc', 'Cosine_DA_LastWorkDesc2',\t'Cosine_DA_Description', 'DataAnalyst'], axis=1)"
   ]
  },
  {
   "cell_type": "code",
   "execution_count": 251,
   "metadata": {},
   "outputs": [
    {
     "data": {
      "text/html": [
       "<div>\n",
       "<style scoped>\n",
       "    .dataframe tbody tr th:only-of-type {\n",
       "        vertical-align: middle;\n",
       "    }\n",
       "\n",
       "    .dataframe tbody tr th {\n",
       "        vertical-align: top;\n",
       "    }\n",
       "\n",
       "    .dataframe thead th {\n",
       "        text-align: right;\n",
       "    }\n",
       "</style>\n",
       "<table border=\"1\" class=\"dataframe\">\n",
       "  <thead>\n",
       "    <tr style=\"text-align: right;\">\n",
       "      <th></th>\n",
       "      <th>ExpPeriod</th>\n",
       "      <th>Salary</th>\n",
       "      <th>Age</th>\n",
       "      <th>Gender</th>\n",
       "      <th>WorkType</th>\n",
       "      <th>WorkSchedule</th>\n",
       "      <th>N_places</th>\n",
       "      <th>Top 10 work</th>\n",
       "      <th>N_changeWork</th>\n",
       "      <th>N_Langs</th>\n",
       "      <th>...</th>\n",
       "      <th>top_city</th>\n",
       "      <th>EduLevelCat</th>\n",
       "      <th>Cosine_DA_LastWorkDesc</th>\n",
       "      <th>Cosine_DA_LastWorkDesc2</th>\n",
       "      <th>Cosine_DA_Description</th>\n",
       "      <th>Cosine_DS_LastWorkDesc</th>\n",
       "      <th>Cosine_DS_LastWorkDesc2</th>\n",
       "      <th>Cosine_DS_Description</th>\n",
       "      <th>DataAnalyst</th>\n",
       "      <th>DataScientist</th>\n",
       "    </tr>\n",
       "  </thead>\n",
       "  <tbody>\n",
       "    <tr>\n",
       "      <th>0</th>\n",
       "      <td>0.899332</td>\n",
       "      <td>-0.032825</td>\n",
       "      <td>0.471765</td>\n",
       "      <td>0.0</td>\n",
       "      <td>1.0</td>\n",
       "      <td>0.0</td>\n",
       "      <td>1.344351</td>\n",
       "      <td>0.0</td>\n",
       "      <td>-0.228412</td>\n",
       "      <td>-0.290421</td>\n",
       "      <td>...</td>\n",
       "      <td>1.0</td>\n",
       "      <td>1.0</td>\n",
       "      <td>0.020599</td>\n",
       "      <td>0.009887</td>\n",
       "      <td>0.032961</td>\n",
       "      <td>0.017386</td>\n",
       "      <td>0.004344</td>\n",
       "      <td>0.039497</td>\n",
       "      <td>0.0</td>\n",
       "      <td>0.0</td>\n",
       "    </tr>\n",
       "    <tr>\n",
       "      <th>1</th>\n",
       "      <td>-0.613145</td>\n",
       "      <td>-0.032825</td>\n",
       "      <td>-0.851000</td>\n",
       "      <td>0.0</td>\n",
       "      <td>1.0</td>\n",
       "      <td>0.0</td>\n",
       "      <td>1.013097</td>\n",
       "      <td>0.0</td>\n",
       "      <td>-0.228412</td>\n",
       "      <td>0.933674</td>\n",
       "      <td>...</td>\n",
       "      <td>1.0</td>\n",
       "      <td>1.0</td>\n",
       "      <td>0.112261</td>\n",
       "      <td>0.007916</td>\n",
       "      <td>0.004854</td>\n",
       "      <td>0.109529</td>\n",
       "      <td>0.000000</td>\n",
       "      <td>0.003678</td>\n",
       "      <td>0.0</td>\n",
       "      <td>0.0</td>\n",
       "    </tr>\n",
       "    <tr>\n",
       "      <th>2</th>\n",
       "      <td>-1.324899</td>\n",
       "      <td>-0.032825</td>\n",
       "      <td>-1.071461</td>\n",
       "      <td>1.0</td>\n",
       "      <td>1.0</td>\n",
       "      <td>0.0</td>\n",
       "      <td>-1.305683</td>\n",
       "      <td>0.0</td>\n",
       "      <td>-0.228412</td>\n",
       "      <td>0.933674</td>\n",
       "      <td>...</td>\n",
       "      <td>1.0</td>\n",
       "      <td>1.0</td>\n",
       "      <td>0.099322</td>\n",
       "      <td>0.000000</td>\n",
       "      <td>0.006594</td>\n",
       "      <td>0.128600</td>\n",
       "      <td>0.000000</td>\n",
       "      <td>0.019851</td>\n",
       "      <td>0.0</td>\n",
       "      <td>0.0</td>\n",
       "    </tr>\n",
       "    <tr>\n",
       "      <th>3</th>\n",
       "      <td>0.098609</td>\n",
       "      <td>-0.032825</td>\n",
       "      <td>-0.263104</td>\n",
       "      <td>0.0</td>\n",
       "      <td>1.0</td>\n",
       "      <td>0.0</td>\n",
       "      <td>0.019334</td>\n",
       "      <td>0.0</td>\n",
       "      <td>-0.228412</td>\n",
       "      <td>-0.290421</td>\n",
       "      <td>...</td>\n",
       "      <td>1.0</td>\n",
       "      <td>1.0</td>\n",
       "      <td>0.007563</td>\n",
       "      <td>0.012057</td>\n",
       "      <td>0.000000</td>\n",
       "      <td>0.003404</td>\n",
       "      <td>0.007315</td>\n",
       "      <td>0.013863</td>\n",
       "      <td>0.0</td>\n",
       "      <td>0.0</td>\n",
       "    </tr>\n",
       "    <tr>\n",
       "      <th>4</th>\n",
       "      <td>-0.247383</td>\n",
       "      <td>-0.032825</td>\n",
       "      <td>-0.263104</td>\n",
       "      <td>3.0</td>\n",
       "      <td>1.0</td>\n",
       "      <td>0.0</td>\n",
       "      <td>2.338114</td>\n",
       "      <td>0.0</td>\n",
       "      <td>3.064879</td>\n",
       "      <td>3.381864</td>\n",
       "      <td>...</td>\n",
       "      <td>1.0</td>\n",
       "      <td>1.0</td>\n",
       "      <td>0.015857</td>\n",
       "      <td>0.012545</td>\n",
       "      <td>0.039033</td>\n",
       "      <td>0.015414</td>\n",
       "      <td>0.006676</td>\n",
       "      <td>0.049572</td>\n",
       "      <td>0.0</td>\n",
       "      <td>0.0</td>\n",
       "    </tr>\n",
       "    <tr>\n",
       "      <th>...</th>\n",
       "      <td>...</td>\n",
       "      <td>...</td>\n",
       "      <td>...</td>\n",
       "      <td>...</td>\n",
       "      <td>...</td>\n",
       "      <td>...</td>\n",
       "      <td>...</td>\n",
       "      <td>...</td>\n",
       "      <td>...</td>\n",
       "      <td>...</td>\n",
       "      <td>...</td>\n",
       "      <td>...</td>\n",
       "      <td>...</td>\n",
       "      <td>...</td>\n",
       "      <td>...</td>\n",
       "      <td>...</td>\n",
       "      <td>...</td>\n",
       "      <td>...</td>\n",
       "      <td>...</td>\n",
       "      <td>...</td>\n",
       "      <td>...</td>\n",
       "    </tr>\n",
       "    <tr>\n",
       "      <th>7166</th>\n",
       "      <td>1.502346</td>\n",
       "      <td>-0.032825</td>\n",
       "      <td>0.839200</td>\n",
       "      <td>0.0</td>\n",
       "      <td>1.0</td>\n",
       "      <td>0.0</td>\n",
       "      <td>0.681843</td>\n",
       "      <td>0.0</td>\n",
       "      <td>-0.228412</td>\n",
       "      <td>-0.290421</td>\n",
       "      <td>...</td>\n",
       "      <td>1.0</td>\n",
       "      <td>1.0</td>\n",
       "      <td>0.011104</td>\n",
       "      <td>0.015722</td>\n",
       "      <td>0.012739</td>\n",
       "      <td>0.008316</td>\n",
       "      <td>0.008928</td>\n",
       "      <td>0.027551</td>\n",
       "      <td>0.0</td>\n",
       "      <td>0.0</td>\n",
       "    </tr>\n",
       "    <tr>\n",
       "      <th>7167</th>\n",
       "      <td>-0.247383</td>\n",
       "      <td>-0.032825</td>\n",
       "      <td>0.912687</td>\n",
       "      <td>1.0</td>\n",
       "      <td>1.0</td>\n",
       "      <td>0.0</td>\n",
       "      <td>-0.643175</td>\n",
       "      <td>1.0</td>\n",
       "      <td>-0.228412</td>\n",
       "      <td>-1.514516</td>\n",
       "      <td>...</td>\n",
       "      <td>1.0</td>\n",
       "      <td>0.0</td>\n",
       "      <td>0.013936</td>\n",
       "      <td>0.015864</td>\n",
       "      <td>0.000000</td>\n",
       "      <td>0.009933</td>\n",
       "      <td>0.007549</td>\n",
       "      <td>0.000000</td>\n",
       "      <td>0.0</td>\n",
       "      <td>0.0</td>\n",
       "    </tr>\n",
       "    <tr>\n",
       "      <th>7168</th>\n",
       "      <td>-0.010131</td>\n",
       "      <td>-0.032825</td>\n",
       "      <td>-0.042644</td>\n",
       "      <td>2.0</td>\n",
       "      <td>1.0</td>\n",
       "      <td>0.0</td>\n",
       "      <td>0.019334</td>\n",
       "      <td>0.0</td>\n",
       "      <td>-0.228412</td>\n",
       "      <td>-0.290421</td>\n",
       "      <td>...</td>\n",
       "      <td>0.0</td>\n",
       "      <td>1.0</td>\n",
       "      <td>0.004725</td>\n",
       "      <td>0.042903</td>\n",
       "      <td>0.016787</td>\n",
       "      <td>0.010510</td>\n",
       "      <td>0.031528</td>\n",
       "      <td>0.026345</td>\n",
       "      <td>0.0</td>\n",
       "      <td>0.0</td>\n",
       "    </tr>\n",
       "    <tr>\n",
       "      <th>7169</th>\n",
       "      <td>0.681852</td>\n",
       "      <td>-0.032825</td>\n",
       "      <td>1.133148</td>\n",
       "      <td>1.0</td>\n",
       "      <td>0.0</td>\n",
       "      <td>0.0</td>\n",
       "      <td>-0.311920</td>\n",
       "      <td>0.0</td>\n",
       "      <td>-0.228412</td>\n",
       "      <td>-0.290421</td>\n",
       "      <td>...</td>\n",
       "      <td>1.0</td>\n",
       "      <td>1.0</td>\n",
       "      <td>0.000000</td>\n",
       "      <td>0.007769</td>\n",
       "      <td>0.014185</td>\n",
       "      <td>0.002102</td>\n",
       "      <td>0.008927</td>\n",
       "      <td>0.015454</td>\n",
       "      <td>0.0</td>\n",
       "      <td>0.0</td>\n",
       "    </tr>\n",
       "    <tr>\n",
       "      <th>7170</th>\n",
       "      <td>3.074135</td>\n",
       "      <td>-0.032825</td>\n",
       "      <td>1.500583</td>\n",
       "      <td>3.0</td>\n",
       "      <td>1.0</td>\n",
       "      <td>0.0</td>\n",
       "      <td>-0.311920</td>\n",
       "      <td>0.0</td>\n",
       "      <td>-0.228412</td>\n",
       "      <td>0.933674</td>\n",
       "      <td>...</td>\n",
       "      <td>0.0</td>\n",
       "      <td>1.0</td>\n",
       "      <td>0.003860</td>\n",
       "      <td>0.000000</td>\n",
       "      <td>0.027055</td>\n",
       "      <td>0.013930</td>\n",
       "      <td>0.000000</td>\n",
       "      <td>0.030485</td>\n",
       "      <td>0.0</td>\n",
       "      <td>0.0</td>\n",
       "    </tr>\n",
       "  </tbody>\n",
       "</table>\n",
       "<p>7171 rows × 30 columns</p>\n",
       "</div>"
      ],
      "text/plain": [
       "      ExpPeriod    Salary       Age   Gender  WorkType  WorkSchedule  \\\n",
       "0      0.899332 -0.032825  0.471765      0.0       1.0           0.0   \n",
       "1     -0.613145 -0.032825 -0.851000      0.0       1.0           0.0   \n",
       "2     -1.324899 -0.032825 -1.071461      1.0       1.0           0.0   \n",
       "3      0.098609 -0.032825 -0.263104      0.0       1.0           0.0   \n",
       "4     -0.247383 -0.032825 -0.263104      3.0       1.0           0.0   \n",
       "...         ...       ...       ...      ...       ...           ...   \n",
       "7166   1.502346 -0.032825  0.839200      0.0       1.0           0.0   \n",
       "7167  -0.247383 -0.032825  0.912687      1.0       1.0           0.0   \n",
       "7168  -0.010131 -0.032825 -0.042644      2.0       1.0           0.0   \n",
       "7169   0.681852 -0.032825  1.133148      1.0       0.0           0.0   \n",
       "7170   3.074135 -0.032825  1.500583      3.0       1.0           0.0   \n",
       "\n",
       "      N_places  Top 10 work  N_changeWork   N_Langs  ...  top_city  \\\n",
       "0     1.344351          0.0     -0.228412 -0.290421  ...       1.0   \n",
       "1     1.013097          0.0     -0.228412  0.933674  ...       1.0   \n",
       "2    -1.305683          0.0     -0.228412  0.933674  ...       1.0   \n",
       "3     0.019334          0.0     -0.228412 -0.290421  ...       1.0   \n",
       "4     2.338114          0.0      3.064879  3.381864  ...       1.0   \n",
       "...        ...          ...           ...       ...  ...       ...   \n",
       "7166  0.681843          0.0     -0.228412 -0.290421  ...       1.0   \n",
       "7167 -0.643175          1.0     -0.228412 -1.514516  ...       1.0   \n",
       "7168  0.019334          0.0     -0.228412 -0.290421  ...       0.0   \n",
       "7169 -0.311920          0.0     -0.228412 -0.290421  ...       1.0   \n",
       "7170 -0.311920          0.0     -0.228412  0.933674  ...       0.0   \n",
       "\n",
       "      EduLevelCat  Cosine_DA_LastWorkDesc  Cosine_DA_LastWorkDesc2  \\\n",
       "0             1.0                0.020599                 0.009887   \n",
       "1             1.0                0.112261                 0.007916   \n",
       "2             1.0                0.099322                 0.000000   \n",
       "3             1.0                0.007563                 0.012057   \n",
       "4             1.0                0.015857                 0.012545   \n",
       "...           ...                     ...                      ...   \n",
       "7166          1.0                0.011104                 0.015722   \n",
       "7167          0.0                0.013936                 0.015864   \n",
       "7168          1.0                0.004725                 0.042903   \n",
       "7169          1.0                0.000000                 0.007769   \n",
       "7170          1.0                0.003860                 0.000000   \n",
       "\n",
       "      Cosine_DA_Description  Cosine_DS_LastWorkDesc  Cosine_DS_LastWorkDesc2  \\\n",
       "0                  0.032961                0.017386                 0.004344   \n",
       "1                  0.004854                0.109529                 0.000000   \n",
       "2                  0.006594                0.128600                 0.000000   \n",
       "3                  0.000000                0.003404                 0.007315   \n",
       "4                  0.039033                0.015414                 0.006676   \n",
       "...                     ...                     ...                      ...   \n",
       "7166               0.012739                0.008316                 0.008928   \n",
       "7167               0.000000                0.009933                 0.007549   \n",
       "7168               0.016787                0.010510                 0.031528   \n",
       "7169               0.014185                0.002102                 0.008927   \n",
       "7170               0.027055                0.013930                 0.000000   \n",
       "\n",
       "      Cosine_DS_Description  DataAnalyst DataScientist  \n",
       "0                  0.039497          0.0           0.0  \n",
       "1                  0.003678          0.0           0.0  \n",
       "2                  0.019851          0.0           0.0  \n",
       "3                  0.013863          0.0           0.0  \n",
       "4                  0.049572          0.0           0.0  \n",
       "...                     ...          ...           ...  \n",
       "7166               0.027551          0.0           0.0  \n",
       "7167               0.000000          0.0           0.0  \n",
       "7168               0.026345          0.0           0.0  \n",
       "7169               0.015454          0.0           0.0  \n",
       "7170               0.030485          0.0           0.0  \n",
       "\n",
       "[7171 rows x 30 columns]"
      ]
     },
     "execution_count": 251,
     "metadata": {},
     "output_type": "execute_result"
    }
   ],
   "source": [
    "train_cosine"
   ]
  },
  {
   "cell_type": "code",
   "execution_count": 252,
   "metadata": {},
   "outputs": [],
   "source": [
    "X_under_cosine_da, y_under_cosine_da = undersampling(cosine_da.drop(['DataAnalyst'], axis=1), cosine_da['DataAnalyst'])\n",
    "X_under_cosine_ds, y_under_cosine_ds = undersampling(cosine_ds.drop(['DataScientist'], axis=1), cosine_ds['DataScientist'])\n",
    "\n",
    "X_test_cosine_da, y_test_cosine_da = test_cosine.drop(['DataAnalyst', 'DataScientist', 'URL', 'Cosine_DS_LastWorkDesc', 'Cosine_DS_LastWorkDesc2',\t'Cosine_DS_Description'], axis=1), test_cosine['DataAnalyst']\n",
    "X_test_cosine_ds, y_test_cosine_ds = test_cosine.drop(['DataAnalyst', 'DataScientist', 'URL', 'Cosine_DA_LastWorkDesc', 'Cosine_DA_LastWorkDesc2',\t'Cosine_DA_Description'], axis=1), test_cosine['DataScientist']"
   ]
  },
  {
   "cell_type": "code",
   "execution_count": 253,
   "metadata": {},
   "outputs": [],
   "source": [
    "bert_da = train_bert.drop(['URL', 'ds', 'DataScientist', 'Description', 'LastWorkDesc', 'LastWorkDesc2'], axis=1)\n",
    "bert_ds = train_bert.drop(['URL', 'da', 'DataAnalyst', 'Description', 'LastWorkDesc', 'LastWorkDesc2'], axis=1)"
   ]
  },
  {
   "cell_type": "code",
   "execution_count": 254,
   "metadata": {},
   "outputs": [],
   "source": [
    "X_under_bert_da, y_under_bert_da = undersampling(bert_da.drop(['DataAnalyst'], axis=1), bert_da['DataAnalyst'])\n",
    "X_under_bert_ds, y_under_bert_ds = undersampling(bert_ds.drop(['DataScientist'], axis=1), bert_ds['DataScientist'])\n",
    "\n",
    "X_test_bert_da, y_test_bert_da = test_bert.drop(['DataAnalyst', 'DataScientist', 'URL', 'ds', 'Description', 'LastWorkDesc', 'LastWorkDesc2'], axis=1), test_bert['DataAnalyst']\n",
    "X_test_bert_ds, y_test_bert_ds = test_bert.drop(['DataAnalyst', 'DataScientist', 'URL', 'da', 'Description', 'LastWorkDesc', 'LastWorkDesc2'], axis=1), test_bert['DataScientist']"
   ]
  },
  {
   "cell_type": "code",
   "execution_count": 274,
   "metadata": {},
   "outputs": [],
   "source": [
    "X_over_cosine_da, y_over_cosine_da = oversampling(cosine_da.drop(['DataAnalyst'], axis=1), cosine_da['DataAnalyst'])\n",
    "X_over_cosine_ds, y_over_cosine_ds = oversampling(cosine_ds.drop(['DataScientist'], axis=1), cosine_ds['DataScientist'])"
   ]
  },
  {
   "cell_type": "code",
   "execution_count": 278,
   "metadata": {},
   "outputs": [],
   "source": [
    "X_over_bert_da, y_over_bert_da = oversampling(bert_da.drop(['DataAnalyst'], axis=1), bert_da['DataAnalyst'])\n",
    "X_over_bert_ds, y_over_bert_ds = oversampling(bert_ds.drop(['DataScientist'], axis=1), bert_ds['DataScientist'])"
   ]
  },
  {
   "cell_type": "markdown",
   "metadata": {},
   "source": [
    "# Models"
   ]
  },
  {
   "cell_type": "code",
   "execution_count": 265,
   "metadata": {},
   "outputs": [],
   "source": [
    "def xgboost_clf(X_train, y_train, X_test, y_test, type_balance, type_scoring, prof):\n",
    "    model = XGBClassifier().fit(X_train, y_train)\n",
    "    y_pred = model.predict(X_test)\n",
    "    print(prof)\n",
    "    print(type_balance, 'and', type_scoring)\n",
    "    print('Accuracy score is: ', accuracy_score(y_pred, y_test))\n",
    "    print('Precision: ', precision_score(y_pred, y_test))\n",
    "    print('Recall: ', recall_score(y_pred, y_test))\n",
    "    print('F1-Score: ', f1_score(y_pred, y_test))"
   ]
  },
  {
   "cell_type": "code",
   "execution_count": 266,
   "metadata": {},
   "outputs": [],
   "source": [
    "def lr_clf(X_train, y_train, X_test, y_test, type_balance, type_scoring, prof):\n",
    "    model = LogisticRegression(random_state=42, solver='lbfgs', C=20, max_iter=1000).fit(X_train, y_train)\n",
    "    y_pred = model.predict(X_test)\n",
    "    print(prof)\n",
    "    print(type_balance, 'and', type_scoring)\n",
    "    print('Accuracy score is: ', accuracy_score(y_pred, y_test))\n",
    "    print('Precision: ', precision_score(y_pred, y_test))\n",
    "    print('Recall: ', recall_score(y_pred, y_test))\n",
    "    print('F1-Score: ', f1_score(y_pred, y_test))"
   ]
  },
  {
   "cell_type": "markdown",
   "metadata": {},
   "source": [
    "# Undersampling data experiments"
   ]
  },
  {
   "cell_type": "code",
   "execution_count": 267,
   "metadata": {},
   "outputs": [
    {
     "name": "stdout",
     "output_type": "stream",
     "text": [
      "DataAnalyst\n",
      "Undersampling and Cosine\n",
      "Accuracy score is:  0.7766624843161857\n",
      "Precision:  0.7848837209302325\n",
      "Recall:  0.21360759493670886\n",
      "F1-Score:  0.3358208955223881\n"
     ]
    }
   ],
   "source": [
    "xgboost_clf(X_under_cosine_da, y_under_cosine_da, X_test_cosine_da, y_test_cosine_da, 'Undersampling', 'Cosine', 'DataAnalyst')"
   ]
  },
  {
   "cell_type": "code",
   "execution_count": 268,
   "metadata": {},
   "outputs": [
    {
     "name": "stdout",
     "output_type": "stream",
     "text": [
      "DataAnalyst\n",
      "Undersampling and Cosine\n",
      "Accuracy score is:  0.8402342116269343\n",
      "Precision:  0.7151162790697675\n",
      "Recall:  0.26973684210526316\n",
      "F1-Score:  0.39171974522292996\n"
     ]
    }
   ],
   "source": [
    "lr_clf(X_under_cosine_da, y_under_cosine_da, X_test_cosine_da, y_test_cosine_da, 'Undersampling', 'Cosine', 'DataAnalyst')"
   ]
  },
  {
   "cell_type": "code",
   "execution_count": 269,
   "metadata": {},
   "outputs": [
    {
     "name": "stdout",
     "output_type": "stream",
     "text": [
      "DataScientist\n",
      "Undersampling and Cosine\n",
      "Accuracy score is:  0.876620660811376\n",
      "Precision:  0.8928571428571429\n",
      "Recall:  0.07886435331230283\n",
      "F1-Score:  0.14492753623188406\n"
     ]
    }
   ],
   "source": [
    "xgboost_clf(X_under_cosine_ds, y_under_cosine_ds, X_test_cosine_ds, y_test_cosine_ds, 'Undersampling', 'Cosine', 'DataScientist')"
   ]
  },
  {
   "cell_type": "code",
   "execution_count": 270,
   "metadata": {},
   "outputs": [
    {
     "name": "stdout",
     "output_type": "stream",
     "text": [
      "DataScientist\n",
      "Undersampling and Cosine\n",
      "Accuracy score is:  0.8724383103304056\n",
      "Precision:  0.8928571428571429\n",
      "Recall:  0.0764525993883792\n",
      "F1-Score:  0.1408450704225352\n"
     ]
    }
   ],
   "source": [
    "lr_clf(X_under_cosine_ds, y_under_cosine_ds, X_test_cosine_ds, y_test_cosine_ds, 'Undersampling', 'Cosine', 'DataScientist')"
   ]
  },
  {
   "cell_type": "code",
   "execution_count": 271,
   "metadata": {},
   "outputs": [
    {
     "name": "stdout",
     "output_type": "stream",
     "text": [
      "DataAnalyst\n",
      "Undersampling and BERT\n",
      "Accuracy score is:  0.7909992372234935\n",
      "Precision:  0.6914285714285714\n",
      "Recall:  0.1967479674796748\n",
      "F1-Score:  0.30632911392405066\n"
     ]
    }
   ],
   "source": [
    "xgboost_clf(X_under_bert_da, y_under_bert_da, X_test_bert_da, y_test_bert_da, 'Undersampling', 'BERT', 'DataAnalyst')"
   ]
  },
  {
   "cell_type": "code",
   "execution_count": 272,
   "metadata": {},
   "outputs": [
    {
     "name": "stdout",
     "output_type": "stream",
     "text": [
      "DataAnalyst\n",
      "Undersampling and BERT\n",
      "Accuracy score is:  0.8405797101449275\n",
      "Precision:  0.6285714285714286\n",
      "Recall:  0.23758099352051837\n",
      "F1-Score:  0.3448275862068965\n"
     ]
    }
   ],
   "source": [
    "lr_clf(X_under_bert_da, y_under_bert_da, X_test_bert_da, y_test_bert_da, 'Undersampling', 'BERT', 'DataAnalyst')"
   ]
  },
  {
   "cell_type": "markdown",
   "metadata": {},
   "source": [
    "# Oversampling data experiments"
   ]
  },
  {
   "cell_type": "code",
   "execution_count": 279,
   "metadata": {},
   "outputs": [
    {
     "name": "stdout",
     "output_type": "stream",
     "text": [
      "DataAnalyst\n",
      "Oversampling and Cosine\n",
      "Accuracy score is:  0.9330823923044751\n",
      "Precision:  0.3313953488372093\n",
      "Recall:  0.5588235294117647\n",
      "F1-Score:  0.416058394160584\n"
     ]
    }
   ],
   "source": [
    "xgboost_clf(X_over_cosine_da, y_over_cosine_da, X_test_cosine_da, y_test_cosine_da, 'Oversampling', 'Cosine', 'DataAnalyst')"
   ]
  },
  {
   "cell_type": "code",
   "execution_count": 280,
   "metadata": {},
   "outputs": [
    {
     "name": "stdout",
     "output_type": "stream",
     "text": [
      "DataScientist\n",
      "Oversampling and Cosine\n",
      "Accuracy score is:  0.9828523630280217\n",
      "Precision:  0.25\n",
      "Recall:  0.25925925925925924\n",
      "F1-Score:  0.2545454545454545\n"
     ]
    }
   ],
   "source": [
    "xgboost_clf(X_over_cosine_ds, y_over_cosine_ds, X_test_cosine_ds, y_test_cosine_ds, 'Oversampling', 'Cosine', 'DataScientist')"
   ]
  },
  {
   "cell_type": "code",
   "execution_count": 282,
   "metadata": {},
   "outputs": [
    {
     "name": "stdout",
     "output_type": "stream",
     "text": [
      "DataAnalyst\n",
      "Oversampling and BERT\n",
      "Accuracy score is:  0.9355453852021358\n",
      "Precision:  0.32\n",
      "Recall:  0.5283018867924528\n",
      "F1-Score:  0.39857651245551606\n"
     ]
    }
   ],
   "source": [
    "xgboost_clf(X_over_bert_da, y_over_bert_da, X_test_bert_da, y_test_bert_da, 'Oversampling', 'BERT', 'DataAnalyst')"
   ]
  },
  {
   "cell_type": "code",
   "execution_count": 281,
   "metadata": {},
   "outputs": [
    {
     "name": "stdout",
     "output_type": "stream",
     "text": [
      "DataScientist\n",
      "Oversampling and BERT\n",
      "Accuracy score is:  0.986651411136537\n",
      "Precision:  0.21428571428571427\n",
      "Recall:  0.3157894736842105\n",
      "F1-Score:  0.2553191489361702\n"
     ]
    }
   ],
   "source": [
    "xgboost_clf(X_over_bert_ds, y_over_bert_ds, X_test_bert_ds, y_test_bert_ds, 'Oversampling', 'BERT', 'DataScientist')"
   ]
  },
  {
   "cell_type": "code",
   "execution_count": 283,
   "metadata": {},
   "outputs": [
    {
     "name": "stdout",
     "output_type": "stream",
     "text": [
      "DataAnalyst\n",
      "Oversampling and Cosine\n",
      "Accuracy score is:  0.8419071518193224\n",
      "Precision:  0.7383720930232558\n",
      "Recall:  0.27608695652173915\n",
      "F1-Score:  0.40189873417721517\n"
     ]
    }
   ],
   "source": [
    "lr_clf(X_over_cosine_da, y_over_cosine_da, X_test_cosine_da, y_test_cosine_da, 'Oversampling', 'Cosine', 'DataAnalyst')"
   ]
  },
  {
   "cell_type": "code",
   "execution_count": 284,
   "metadata": {},
   "outputs": [
    {
     "name": "stdout",
     "output_type": "stream",
     "text": [
      "DataScientist\n",
      "Oversampling and Cosine\n",
      "Accuracy score is:  0.9355918025930573\n",
      "Precision:  0.9285714285714286\n",
      "Recall:  0.14606741573033707\n",
      "F1-Score:  0.2524271844660194\n"
     ]
    }
   ],
   "source": [
    "lr_clf(X_over_cosine_ds, y_over_cosine_ds, X_test_cosine_ds, y_test_cosine_ds, 'Oversampling', 'Cosine', 'DataScientist')"
   ]
  },
  {
   "cell_type": "code",
   "execution_count": 285,
   "metadata": {},
   "outputs": [
    {
     "name": "stdout",
     "output_type": "stream",
     "text": [
      "DataAnalyst\n",
      "Oversampling and BERT\n",
      "Accuracy score is:  0.8447749809305873\n",
      "Precision:  0.6571428571428571\n",
      "Recall:  0.24891774891774893\n",
      "F1-Score:  0.36106750392464676\n"
     ]
    }
   ],
   "source": [
    "lr_clf(X_over_bert_da, y_over_bert_da, X_test_bert_da, y_test_bert_da, 'Oversampling', 'BERT', 'DataAnalyst')"
   ]
  },
  {
   "cell_type": "code",
   "execution_count": 286,
   "metadata": {},
   "outputs": [
    {
     "name": "stdout",
     "output_type": "stream",
     "text": [
      "DataScientist\n",
      "Oversampling and BERT\n",
      "Accuracy score is:  0.944698703279939\n",
      "Precision:  0.8571428571428571\n",
      "Recall:  0.14545454545454545\n",
      "F1-Score:  0.24870466321243523\n"
     ]
    }
   ],
   "source": [
    "lr_clf(X_over_bert_ds, y_over_bert_ds, X_test_bert_ds, y_test_bert_ds, 'Oversampling', 'BERT', 'DataScientist')"
   ]
  }
 ],
 "metadata": {
  "kernelspec": {
   "display_name": "Python 3.10.9 64-bit",
   "language": "python",
   "name": "python3"
  },
  "language_info": {
   "codemirror_mode": {
    "name": "ipython",
    "version": 3
   },
   "file_extension": ".py",
   "mimetype": "text/x-python",
   "name": "python",
   "nbconvert_exporter": "python",
   "pygments_lexer": "ipython3",
   "version": "3.10.9"
  },
  "orig_nbformat": 4,
  "vscode": {
   "interpreter": {
    "hash": "b0fa6594d8f4cbf19f97940f81e996739fb7646882a419484c72d19e05852a7e"
   }
  }
 },
 "nbformat": 4,
 "nbformat_minor": 2
}
